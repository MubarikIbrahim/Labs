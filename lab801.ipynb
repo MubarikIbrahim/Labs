{
 "cells": [
  {
   "cell_type": "code",
   "execution_count": 1,
   "metadata": {},
   "outputs": [],
   "source": [
    "from bs4 import BeautifulSoup\n",
    "import requests\n",
    "import pandas as pd\n",
    "from tqdm.notebook import tqdm"
   ]
  },
  {
   "cell_type": "code",
   "execution_count": 2,
   "metadata": {},
   "outputs": [],
   "source": [
    "url = \"https://www.billboard.com/charts/hot-100\""
   ]
  },
  {
   "cell_type": "code",
   "execution_count": 3,
   "metadata": {},
   "outputs": [],
   "source": [
    "response = requests.get(url)"
   ]
  },
  {
   "cell_type": "code",
   "execution_count": 4,
   "metadata": {},
   "outputs": [
    {
     "data": {
      "text/plain": [
       "200"
      ]
     },
     "execution_count": 4,
     "metadata": {},
     "output_type": "execute_result"
    }
   ],
   "source": [
    "response.status_code"
   ]
  },
  {
   "cell_type": "code",
   "execution_count": 5,
   "metadata": {},
   "outputs": [],
   "source": [
    "soup = BeautifulSoup(response.content, \"html.parser\")"
   ]
  },
  {
   "cell_type": "code",
   "execution_count": 6,
   "metadata": {
    "scrolled": false
   },
   "outputs": [],
   "source": [
    "#print(soup.prettify())"
   ]
  },
  {
   "cell_type": "code",
   "execution_count": 7,
   "metadata": {},
   "outputs": [],
   "source": [
    "# soup.select(\"li span.chart-element__information__song\")[0].get_text()\n",
    "# soup.select(\"li span.chart-element__information__artist\")[0].get_text()\n",
    "\n",
    "# s = BeautifulSoup(response.content, \"html.parser\")\n",
    "# artists = []\n",
    "# for i in range(len(s.select(\"li span.chart-element__information__artist\"))):\n",
    "#     artists.append(s.select(\"li span.chart-element__information__artist\")[i].get_text())\n",
    "    \n",
    "# songs = []\n",
    "# for i in range(len(s.select(\"li span.chart-element__information__song\"))):\n",
    "#     songs.append(s.select(\"li span.chart-element__information__song\")[i].get_text())"
   ]
  },
  {
   "cell_type": "code",
   "execution_count": 8,
   "metadata": {
    "scrolled": true
   },
   "outputs": [
    {
     "data": {
      "application/vnd.jupyter.widget-view+json": {
       "model_id": "d7783f81b6c54824b0a65649b17b75ad",
       "version_major": 2,
       "version_minor": 0
      },
      "text/plain": [
       "HBox(children=(HTML(value=''), FloatProgress(value=0.0), HTML(value='')))"
      ]
     },
     "metadata": {},
     "output_type": "display_data"
    },
    {
     "name": "stdout",
     "output_type": "stream",
     "text": [
      "\n"
     ]
    }
   ],
   "source": [
    "songs=[]\n",
    "for i in tqdm(soup.select('li span.chart-element__information__song')):\n",
    "    songs.append(i.get_text())"
   ]
  },
  {
   "cell_type": "code",
   "execution_count": 9,
   "metadata": {
    "scrolled": true
   },
   "outputs": [
    {
     "data": {
      "application/vnd.jupyter.widget-view+json": {
       "model_id": "e039758766eb4b8eb9331e64236a9bba",
       "version_major": 2,
       "version_minor": 0
      },
      "text/plain": [
       "HBox(children=(HTML(value=''), FloatProgress(value=0.0), HTML(value='')))"
      ]
     },
     "metadata": {},
     "output_type": "display_data"
    },
    {
     "name": "stdout",
     "output_type": "stream",
     "text": [
      "\n"
     ]
    }
   ],
   "source": [
    "artists=[]\n",
    "for i in tqdm(soup.select('li span.chart-element__information__artist')):\n",
    "    artists.append(i.get_text())"
   ]
  },
  {
   "cell_type": "code",
   "execution_count": 10,
   "metadata": {},
   "outputs": [],
   "source": [
    "df2 = pd.DataFrame({'songs': songs, 'artists': artists})"
   ]
  },
  {
   "cell_type": "code",
   "execution_count": 11,
   "metadata": {
    "scrolled": true
   },
   "outputs": [
    {
     "data": {
      "text/html": [
       "<div>\n",
       "<style scoped>\n",
       "    .dataframe tbody tr th:only-of-type {\n",
       "        vertical-align: middle;\n",
       "    }\n",
       "\n",
       "    .dataframe tbody tr th {\n",
       "        vertical-align: top;\n",
       "    }\n",
       "\n",
       "    .dataframe thead th {\n",
       "        text-align: right;\n",
       "    }\n",
       "</style>\n",
       "<table border=\"1\" class=\"dataframe\">\n",
       "  <thead>\n",
       "    <tr style=\"text-align: right;\">\n",
       "      <th></th>\n",
       "      <th>songs</th>\n",
       "      <th>artists</th>\n",
       "    </tr>\n",
       "  </thead>\n",
       "  <tbody>\n",
       "    <tr>\n",
       "      <th>0</th>\n",
       "      <td>Drivers License</td>\n",
       "      <td>Olivia Rodrigo</td>\n",
       "    </tr>\n",
       "    <tr>\n",
       "      <th>1</th>\n",
       "      <td>Up</td>\n",
       "      <td>Cardi B</td>\n",
       "    </tr>\n",
       "    <tr>\n",
       "      <th>2</th>\n",
       "      <td>Blinding Lights</td>\n",
       "      <td>The Weeknd</td>\n",
       "    </tr>\n",
       "    <tr>\n",
       "      <th>3</th>\n",
       "      <td>Save Your Tears</td>\n",
       "      <td>The Weeknd</td>\n",
       "    </tr>\n",
       "    <tr>\n",
       "      <th>4</th>\n",
       "      <td>Mood</td>\n",
       "      <td>24kGoldn Featuring iann dior</td>\n",
       "    </tr>\n",
       "    <tr>\n",
       "      <th>...</th>\n",
       "      <td>...</td>\n",
       "      <td>...</td>\n",
       "    </tr>\n",
       "    <tr>\n",
       "      <th>95</th>\n",
       "      <td>Almost Maybes</td>\n",
       "      <td>Jordan Davis</td>\n",
       "    </tr>\n",
       "    <tr>\n",
       "      <th>96</th>\n",
       "      <td>Masterpiece</td>\n",
       "      <td>DaBaby</td>\n",
       "    </tr>\n",
       "    <tr>\n",
       "      <th>97</th>\n",
       "      <td>Prisoner</td>\n",
       "      <td>Miley Cyrus Featuring Dua Lipa</td>\n",
       "    </tr>\n",
       "    <tr>\n",
       "      <th>98</th>\n",
       "      <td>Skin</td>\n",
       "      <td>Sabrina Carpenter</td>\n",
       "    </tr>\n",
       "    <tr>\n",
       "      <th>99</th>\n",
       "      <td>Quicksand</td>\n",
       "      <td>Morray</td>\n",
       "    </tr>\n",
       "  </tbody>\n",
       "</table>\n",
       "<p>100 rows × 2 columns</p>\n",
       "</div>"
      ],
      "text/plain": [
       "              songs                         artists\n",
       "0   Drivers License                  Olivia Rodrigo\n",
       "1                Up                         Cardi B\n",
       "2   Blinding Lights                      The Weeknd\n",
       "3   Save Your Tears                      The Weeknd\n",
       "4              Mood    24kGoldn Featuring iann dior\n",
       "..              ...                             ...\n",
       "95    Almost Maybes                    Jordan Davis\n",
       "96      Masterpiece                          DaBaby\n",
       "97         Prisoner  Miley Cyrus Featuring Dua Lipa\n",
       "98             Skin               Sabrina Carpenter\n",
       "99        Quicksand                          Morray\n",
       "\n",
       "[100 rows x 2 columns]"
      ]
     },
     "execution_count": 11,
     "metadata": {},
     "output_type": "execute_result"
    }
   ],
   "source": [
    "df2"
   ]
  },
  {
   "cell_type": "code",
   "execution_count": null,
   "metadata": {},
   "outputs": [],
   "source": []
  },
  {
   "cell_type": "code",
   "execution_count": 12,
   "metadata": {},
   "outputs": [],
   "source": [
    "url = \"https://www.oljo.de/eurochart_eu_chart/eu100.shtml\""
   ]
  },
  {
   "cell_type": "code",
   "execution_count": 13,
   "metadata": {},
   "outputs": [],
   "source": [
    "response = requests.get(url)"
   ]
  },
  {
   "cell_type": "code",
   "execution_count": 14,
   "metadata": {},
   "outputs": [
    {
     "data": {
      "text/plain": [
       "200"
      ]
     },
     "execution_count": 14,
     "metadata": {},
     "output_type": "execute_result"
    }
   ],
   "source": [
    "response.status_code"
   ]
  },
  {
   "cell_type": "code",
   "execution_count": 15,
   "metadata": {},
   "outputs": [],
   "source": [
    "soup = BeautifulSoup(response.content, \"html.parser\")"
   ]
  },
  {
   "cell_type": "code",
   "execution_count": 16,
   "metadata": {},
   "outputs": [],
   "source": [
    "#print(soup.prettify())"
   ]
  },
  {
   "cell_type": "code",
   "execution_count": 17,
   "metadata": {
    "scrolled": true
   },
   "outputs": [
    {
     "data": {
      "text/plain": [
       "[<b>THE WEEKND</b>,\n",
       " <b>SAINT JHN</b>,\n",
       " <b>TONES AND I</b>,\n",
       " <b>DUA LIPA</b>,\n",
       " <b>RODDY RICCH</b>,\n",
       " <b>DUA LIPA</b>,\n",
       " <b>DUA LIPA</b>,\n",
       " <b>POWFU</b>,\n",
       " <b>DOJA CAT</b>,\n",
       " <b>ZUNA &amp; LOREDANA &amp; SRNO</b>,\n",
       " <b>LIL MOSEY</b>,\n",
       " <b>KAROL G &amp; NICKI MINAJ</b>,\n",
       " <b>TREVOR DANIEL</b>,\n",
       " <b>THE WEEKND</b>,\n",
       " <b>LEWIS CAPALDI</b>,\n",
       " <b>JUSTIN BIEBER</b>,\n",
       " <b>FUTURE</b>,\n",
       " <b>BENEE</b>,\n",
       " <b>SHIVA &amp; EIFFEL 65</b>,\n",
       " <b>EMINEM</b>,\n",
       " <b>SURFACES</b>,\n",
       " <b>DOJA CAT</b>,\n",
       " <b>PARTYNEXTDOOR &amp; RIHANNA</b>,\n",
       " <b>ARIZONA ZERVAS</b>,\n",
       " <b>LEWIS CAPALDI</b>,\n",
       " <b>BILLIE EILISH</b>,\n",
       " <b>REGARD</b>,\n",
       " <b>BILLIE EILISH</b>,\n",
       " <b>ROBIN SCHULZ</b>,\n",
       " <b>HARRY STYLES</b>,\n",
       " <b>MAROON 5</b>,\n",
       " <b>UFO361</b>,\n",
       " <b>TOPIC</b>,\n",
       " <b>MEGAN THEE STALLION</b>,\n",
       " <b>AVA MAX</b>,\n",
       " <b>KONTRA K</b>,\n",
       " <b>BLACK EYED PEAS &amp; J BALVIN</b>,\n",
       " <b>KYGO &amp; ZARA LARSSON &amp; TYGA</b>,\n",
       " <b>LADY GAGA</b>,\n",
       " <b>ROBY FACCHINETTI</b>,\n",
       " <b>BAD BUNNY</b>,\n",
       " <b>MEDUZA &amp; BECKY HILL &amp; GOODBOYS</b>,\n",
       " <b>POST MALONE</b>,\n",
       " <b>NAPS</b>,\n",
       " <b>SHAWN MENDES &amp; CAMILA CABELLO</b>,\n",
       " <b>THE WEEKND</b>,\n",
       " <b>NINHO</b>,\n",
       " <b>JUL</b>,\n",
       " <b>BILLIE EILISH</b>,\n",
       " <b>SOOLKING</b>]"
      ]
     },
     "execution_count": 17,
     "metadata": {},
     "output_type": "execute_result"
    }
   ],
   "source": [
    "soup.select('div.ytcinterpret > b')"
   ]
  },
  {
   "cell_type": "code",
   "execution_count": null,
   "metadata": {},
   "outputs": [],
   "source": []
  },
  {
   "cell_type": "code",
   "execution_count": 18,
   "metadata": {},
   "outputs": [
    {
     "data": {
      "application/vnd.jupyter.widget-view+json": {
       "model_id": "a34b58cf58ce42d38be7785a8d9bda3d",
       "version_major": 2,
       "version_minor": 0
      },
      "text/plain": [
       "HBox(children=(HTML(value=''), FloatProgress(value=0.0, max=50.0), HTML(value='')))"
      ]
     },
     "metadata": {},
     "output_type": "display_data"
    },
    {
     "name": "stdout",
     "output_type": "stream",
     "text": [
      "\n"
     ]
    }
   ],
   "source": [
    "artists=[]\n",
    "for i in tqdm(soup.select('div.ytcinterpret')):\n",
    "#for i in soup.select('div.ytcinterpret > b'):\n",
    "    artists.append(i.get_text())"
   ]
  },
  {
   "cell_type": "code",
   "execution_count": 19,
   "metadata": {
    "scrolled": true
   },
   "outputs": [
    {
     "data": {
      "text/plain": [
       "50"
      ]
     },
     "execution_count": 19,
     "metadata": {},
     "output_type": "execute_result"
    }
   ],
   "source": [
    "len(artists)"
   ]
  },
  {
   "cell_type": "code",
   "execution_count": null,
   "metadata": {},
   "outputs": [],
   "source": []
  },
  {
   "cell_type": "code",
   "execution_count": 34,
   "metadata": {},
   "outputs": [
    {
     "data": {
      "application/vnd.jupyter.widget-view+json": {
       "model_id": "b985b526a2e047a19b7e88bd4f2c826e",
       "version_major": 2,
       "version_minor": 0
      },
      "text/plain": [
       "HBox(children=(HTML(value=''), FloatProgress(value=0.0, max=50.0), HTML(value='')))"
      ]
     },
     "metadata": {},
     "output_type": "display_data"
    },
    {
     "name": "stdout",
     "output_type": "stream",
     "text": [
      "\n"
     ]
    }
   ],
   "source": [
    "songs=[]\n",
    "for i in tqdm(soup.select('div.ytctitel')):\n",
    "    songs.append(i.get_text())"
   ]
  },
  {
   "cell_type": "code",
   "execution_count": 21,
   "metadata": {},
   "outputs": [
    {
     "data": {
      "text/plain": [
       "50"
      ]
     },
     "execution_count": 21,
     "metadata": {},
     "output_type": "execute_result"
    }
   ],
   "source": [
    "len(songs)\n"
   ]
  },
  {
   "cell_type": "code",
   "execution_count": 22,
   "metadata": {},
   "outputs": [],
   "source": [
    "df = pd.DataFrame({'songs': songs, 'artists': artists})"
   ]
  },
  {
   "cell_type": "code",
   "execution_count": 23,
   "metadata": {
    "scrolled": true
   },
   "outputs": [
    {
     "data": {
      "text/html": [
       "<div>\n",
       "<style scoped>\n",
       "    .dataframe tbody tr th:only-of-type {\n",
       "        vertical-align: middle;\n",
       "    }\n",
       "\n",
       "    .dataframe tbody tr th {\n",
       "        vertical-align: top;\n",
       "    }\n",
       "\n",
       "    .dataframe thead th {\n",
       "        text-align: right;\n",
       "    }\n",
       "</style>\n",
       "<table border=\"1\" class=\"dataframe\">\n",
       "  <thead>\n",
       "    <tr style=\"text-align: right;\">\n",
       "      <th></th>\n",
       "      <th>songs</th>\n",
       "      <th>artists</th>\n",
       "    </tr>\n",
       "  </thead>\n",
       "  <tbody>\n",
       "    <tr>\n",
       "      <th>0</th>\n",
       "      <td>BLINDING LIGHTS</td>\n",
       "      <td>THE WEEKND</td>\n",
       "    </tr>\n",
       "    <tr>\n",
       "      <th>1</th>\n",
       "      <td>ROSES</td>\n",
       "      <td>SAINT JHN</td>\n",
       "    </tr>\n",
       "    <tr>\n",
       "      <th>2</th>\n",
       "      <td>DANCE MONKEY</td>\n",
       "      <td>TONES AND I</td>\n",
       "    </tr>\n",
       "    <tr>\n",
       "      <th>3</th>\n",
       "      <td>DON'T START NOW</td>\n",
       "      <td>DUA LIPA</td>\n",
       "    </tr>\n",
       "    <tr>\n",
       "      <th>4</th>\n",
       "      <td>THE BOX</td>\n",
       "      <td>RODDY RICCH</td>\n",
       "    </tr>\n",
       "    <tr>\n",
       "      <th>5</th>\n",
       "      <td>PHYSICAL</td>\n",
       "      <td>DUA LIPA</td>\n",
       "    </tr>\n",
       "    <tr>\n",
       "      <th>6</th>\n",
       "      <td>BREAK MY HEART</td>\n",
       "      <td>DUA LIPA</td>\n",
       "    </tr>\n",
       "    <tr>\n",
       "      <th>7</th>\n",
       "      <td>DEATH BED</td>\n",
       "      <td>POWFU</td>\n",
       "    </tr>\n",
       "    <tr>\n",
       "      <th>8</th>\n",
       "      <td>SAY SO</td>\n",
       "      <td>DOJA CAT</td>\n",
       "    </tr>\n",
       "    <tr>\n",
       "      <th>9</th>\n",
       "      <td>DU BIST MEIN</td>\n",
       "      <td>ZUNA &amp; LOREDANA &amp; SRNO</td>\n",
       "    </tr>\n",
       "    <tr>\n",
       "      <th>10</th>\n",
       "      <td>BLUEBERRY FAYGO</td>\n",
       "      <td>LIL MOSEY</td>\n",
       "    </tr>\n",
       "    <tr>\n",
       "      <th>11</th>\n",
       "      <td>TUSA</td>\n",
       "      <td>KAROL G &amp; NICKI MINAJ</td>\n",
       "    </tr>\n",
       "    <tr>\n",
       "      <th>12</th>\n",
       "      <td>FALLING</td>\n",
       "      <td>TREVOR DANIEL</td>\n",
       "    </tr>\n",
       "    <tr>\n",
       "      <th>13</th>\n",
       "      <td>IN YOUR EYES</td>\n",
       "      <td>THE WEEKND</td>\n",
       "    </tr>\n",
       "    <tr>\n",
       "      <th>14</th>\n",
       "      <td>BEFORE YOU GO</td>\n",
       "      <td>LEWIS CAPALDI</td>\n",
       "    </tr>\n",
       "    <tr>\n",
       "      <th>15</th>\n",
       "      <td>INTENTIONS</td>\n",
       "      <td>JUSTIN BIEBER</td>\n",
       "    </tr>\n",
       "    <tr>\n",
       "      <th>16</th>\n",
       "      <td>LIFE IS GOOD</td>\n",
       "      <td>FUTURE</td>\n",
       "    </tr>\n",
       "    <tr>\n",
       "      <th>17</th>\n",
       "      <td>SUPALONELY</td>\n",
       "      <td>BENEE</td>\n",
       "    </tr>\n",
       "    <tr>\n",
       "      <th>18</th>\n",
       "      <td>AUTO BLU</td>\n",
       "      <td>SHIVA &amp; EIFFEL 65</td>\n",
       "    </tr>\n",
       "    <tr>\n",
       "      <th>19</th>\n",
       "      <td>GODZILLA</td>\n",
       "      <td>EMINEM</td>\n",
       "    </tr>\n",
       "    <tr>\n",
       "      <th>20</th>\n",
       "      <td>SUNDAY BEST</td>\n",
       "      <td>SURFACES</td>\n",
       "    </tr>\n",
       "    <tr>\n",
       "      <th>21</th>\n",
       "      <td>BOSS BITCH</td>\n",
       "      <td>DOJA CAT</td>\n",
       "    </tr>\n",
       "    <tr>\n",
       "      <th>22</th>\n",
       "      <td>BELIEVE IT</td>\n",
       "      <td>PARTYNEXTDOOR &amp; RIHANNA</td>\n",
       "    </tr>\n",
       "    <tr>\n",
       "      <th>23</th>\n",
       "      <td>ROXANNE</td>\n",
       "      <td>ARIZONA ZERVAS</td>\n",
       "    </tr>\n",
       "    <tr>\n",
       "      <th>24</th>\n",
       "      <td>SOMEONE YOU LOVED</td>\n",
       "      <td>LEWIS CAPALDI</td>\n",
       "    </tr>\n",
       "    <tr>\n",
       "      <th>25</th>\n",
       "      <td>EVERYTHING I WANTED</td>\n",
       "      <td>BILLIE EILISH</td>\n",
       "    </tr>\n",
       "    <tr>\n",
       "      <th>26</th>\n",
       "      <td>RIDE IT</td>\n",
       "      <td>REGARD</td>\n",
       "    </tr>\n",
       "    <tr>\n",
       "      <th>27</th>\n",
       "      <td>BAD GUY</td>\n",
       "      <td>BILLIE EILISH</td>\n",
       "    </tr>\n",
       "    <tr>\n",
       "      <th>28</th>\n",
       "      <td>IN YOUR EYES</td>\n",
       "      <td>ROBIN SCHULZ</td>\n",
       "    </tr>\n",
       "    <tr>\n",
       "      <th>29</th>\n",
       "      <td>ADORE YOU</td>\n",
       "      <td>HARRY STYLES</td>\n",
       "    </tr>\n",
       "    <tr>\n",
       "      <th>30</th>\n",
       "      <td>MEMORIES</td>\n",
       "      <td>MAROON 5</td>\n",
       "    </tr>\n",
       "    <tr>\n",
       "      <th>31</th>\n",
       "      <td>ALLEIN SEIN</td>\n",
       "      <td>UFO361</td>\n",
       "    </tr>\n",
       "    <tr>\n",
       "      <th>32</th>\n",
       "      <td>BREAKING ME</td>\n",
       "      <td>TOPIC</td>\n",
       "    </tr>\n",
       "    <tr>\n",
       "      <th>33</th>\n",
       "      <td>SAVAGE</td>\n",
       "      <td>MEGAN THEE STALLION</td>\n",
       "    </tr>\n",
       "    <tr>\n",
       "      <th>34</th>\n",
       "      <td>SALT</td>\n",
       "      <td>AVA MAX</td>\n",
       "    </tr>\n",
       "    <tr>\n",
       "      <th>35</th>\n",
       "      <td>PUSTE SIE WEG</td>\n",
       "      <td>KONTRA K</td>\n",
       "    </tr>\n",
       "    <tr>\n",
       "      <th>36</th>\n",
       "      <td>RITMO</td>\n",
       "      <td>BLACK EYED PEAS &amp; J BALVIN</td>\n",
       "    </tr>\n",
       "    <tr>\n",
       "      <th>37</th>\n",
       "      <td>LIKE IT IS</td>\n",
       "      <td>KYGO &amp; ZARA LARSSON &amp; TYGA</td>\n",
       "    </tr>\n",
       "    <tr>\n",
       "      <th>38</th>\n",
       "      <td>STUPID LOVE</td>\n",
       "      <td>LADY GAGA</td>\n",
       "    </tr>\n",
       "    <tr>\n",
       "      <th>39</th>\n",
       "      <td>RINASCERO RINASCERAI</td>\n",
       "      <td>ROBY FACCHINETTI</td>\n",
       "    </tr>\n",
       "    <tr>\n",
       "      <th>40</th>\n",
       "      <td>YO PERREO SOLA</td>\n",
       "      <td>BAD BUNNY</td>\n",
       "    </tr>\n",
       "    <tr>\n",
       "      <th>41</th>\n",
       "      <td>LOSE CONTROL</td>\n",
       "      <td>MEDUZA &amp; BECKY HILL &amp; GOODBOYS</td>\n",
       "    </tr>\n",
       "    <tr>\n",
       "      <th>42</th>\n",
       "      <td>CIRCLES</td>\n",
       "      <td>POST MALONE</td>\n",
       "    </tr>\n",
       "    <tr>\n",
       "      <th>43</th>\n",
       "      <td>63</td>\n",
       "      <td>NAPS</td>\n",
       "    </tr>\n",
       "    <tr>\n",
       "      <th>44</th>\n",
       "      <td>SENORITA</td>\n",
       "      <td>SHAWN MENDES &amp; CAMILA CABELLO</td>\n",
       "    </tr>\n",
       "    <tr>\n",
       "      <th>45</th>\n",
       "      <td>AFTER HOURS</td>\n",
       "      <td>THE WEEKND</td>\n",
       "    </tr>\n",
       "    <tr>\n",
       "      <th>46</th>\n",
       "      <td>LETTRE A UNE FEMME</td>\n",
       "      <td>NINHO</td>\n",
       "    </tr>\n",
       "    <tr>\n",
       "      <th>47</th>\n",
       "      <td>SOUSOU</td>\n",
       "      <td>JUL</td>\n",
       "    </tr>\n",
       "    <tr>\n",
       "      <th>48</th>\n",
       "      <td>NO TIME TO DIE</td>\n",
       "      <td>BILLIE EILISH</td>\n",
       "    </tr>\n",
       "    <tr>\n",
       "      <th>49</th>\n",
       "      <td>MELEGIM</td>\n",
       "      <td>SOOLKING</td>\n",
       "    </tr>\n",
       "  </tbody>\n",
       "</table>\n",
       "</div>"
      ],
      "text/plain": [
       "                   songs                          artists\n",
       "0        BLINDING LIGHTS                      THE WEEKND \n",
       "1                  ROSES                       SAINT JHN \n",
       "2           DANCE MONKEY                     TONES AND I \n",
       "3        DON'T START NOW                        DUA LIPA \n",
       "4                THE BOX                     RODDY RICCH \n",
       "5               PHYSICAL                        DUA LIPA \n",
       "6         BREAK MY HEART                        DUA LIPA \n",
       "7              DEATH BED                           POWFU \n",
       "8                 SAY SO                        DOJA CAT \n",
       "9           DU BIST MEIN          ZUNA & LOREDANA & SRNO \n",
       "10       BLUEBERRY FAYGO                       LIL MOSEY \n",
       "11                  TUSA           KAROL G & NICKI MINAJ \n",
       "12               FALLING                   TREVOR DANIEL \n",
       "13          IN YOUR EYES                      THE WEEKND \n",
       "14         BEFORE YOU GO                   LEWIS CAPALDI \n",
       "15            INTENTIONS                   JUSTIN BIEBER \n",
       "16          LIFE IS GOOD                          FUTURE \n",
       "17            SUPALONELY                           BENEE \n",
       "18              AUTO BLU               SHIVA & EIFFEL 65 \n",
       "19              GODZILLA                          EMINEM \n",
       "20           SUNDAY BEST                        SURFACES \n",
       "21            BOSS BITCH                        DOJA CAT \n",
       "22            BELIEVE IT         PARTYNEXTDOOR & RIHANNA \n",
       "23               ROXANNE                  ARIZONA ZERVAS \n",
       "24     SOMEONE YOU LOVED                   LEWIS CAPALDI \n",
       "25   EVERYTHING I WANTED                   BILLIE EILISH \n",
       "26               RIDE IT                          REGARD \n",
       "27               BAD GUY                   BILLIE EILISH \n",
       "28          IN YOUR EYES                    ROBIN SCHULZ \n",
       "29             ADORE YOU                    HARRY STYLES \n",
       "30              MEMORIES                        MAROON 5 \n",
       "31           ALLEIN SEIN                          UFO361 \n",
       "32           BREAKING ME                           TOPIC \n",
       "33                SAVAGE             MEGAN THEE STALLION \n",
       "34                  SALT                         AVA MAX \n",
       "35         PUSTE SIE WEG                        KONTRA K \n",
       "36                 RITMO      BLACK EYED PEAS & J BALVIN \n",
       "37            LIKE IT IS      KYGO & ZARA LARSSON & TYGA \n",
       "38           STUPID LOVE                       LADY GAGA \n",
       "39  RINASCERO RINASCERAI                ROBY FACCHINETTI \n",
       "40        YO PERREO SOLA                       BAD BUNNY \n",
       "41          LOSE CONTROL  MEDUZA & BECKY HILL & GOODBOYS \n",
       "42               CIRCLES                     POST MALONE \n",
       "43                    63                            NAPS \n",
       "44              SENORITA   SHAWN MENDES & CAMILA CABELLO \n",
       "45           AFTER HOURS                      THE WEEKND \n",
       "46    LETTRE A UNE FEMME                           NINHO \n",
       "47                SOUSOU                             JUL \n",
       "48        NO TIME TO DIE                   BILLIE EILISH \n",
       "49               MELEGIM                        SOOLKING "
      ]
     },
     "execution_count": 23,
     "metadata": {},
     "output_type": "execute_result"
    }
   ],
   "source": [
    "df"
   ]
  },
  {
   "cell_type": "code",
   "execution_count": null,
   "metadata": {},
   "outputs": [],
   "source": []
  },
  {
   "cell_type": "code",
   "execution_count": 28,
   "metadata": {},
   "outputs": [],
   "source": [
    "\n",
    "tables = pd.concat([df, df2], ignore_index = True)\n",
    "#tables = df.append(df2)"
   ]
  },
  {
   "cell_type": "code",
   "execution_count": 29,
   "metadata": {},
   "outputs": [
    {
     "data": {
      "text/html": [
       "<div>\n",
       "<style scoped>\n",
       "    .dataframe tbody tr th:only-of-type {\n",
       "        vertical-align: middle;\n",
       "    }\n",
       "\n",
       "    .dataframe tbody tr th {\n",
       "        vertical-align: top;\n",
       "    }\n",
       "\n",
       "    .dataframe thead th {\n",
       "        text-align: right;\n",
       "    }\n",
       "</style>\n",
       "<table border=\"1\" class=\"dataframe\">\n",
       "  <thead>\n",
       "    <tr style=\"text-align: right;\">\n",
       "      <th></th>\n",
       "      <th>songs</th>\n",
       "      <th>artists</th>\n",
       "    </tr>\n",
       "  </thead>\n",
       "  <tbody>\n",
       "    <tr>\n",
       "      <th>0</th>\n",
       "      <td>BLINDING LIGHTS</td>\n",
       "      <td>THE WEEKND</td>\n",
       "    </tr>\n",
       "    <tr>\n",
       "      <th>1</th>\n",
       "      <td>ROSES</td>\n",
       "      <td>SAINT JHN</td>\n",
       "    </tr>\n",
       "    <tr>\n",
       "      <th>2</th>\n",
       "      <td>DANCE MONKEY</td>\n",
       "      <td>TONES AND I</td>\n",
       "    </tr>\n",
       "    <tr>\n",
       "      <th>3</th>\n",
       "      <td>DON'T START NOW</td>\n",
       "      <td>DUA LIPA</td>\n",
       "    </tr>\n",
       "    <tr>\n",
       "      <th>4</th>\n",
       "      <td>THE BOX</td>\n",
       "      <td>RODDY RICCH</td>\n",
       "    </tr>\n",
       "    <tr>\n",
       "      <th>...</th>\n",
       "      <td>...</td>\n",
       "      <td>...</td>\n",
       "    </tr>\n",
       "    <tr>\n",
       "      <th>145</th>\n",
       "      <td>Almost Maybes</td>\n",
       "      <td>Jordan Davis</td>\n",
       "    </tr>\n",
       "    <tr>\n",
       "      <th>146</th>\n",
       "      <td>Masterpiece</td>\n",
       "      <td>DaBaby</td>\n",
       "    </tr>\n",
       "    <tr>\n",
       "      <th>147</th>\n",
       "      <td>Prisoner</td>\n",
       "      <td>Miley Cyrus Featuring Dua Lipa</td>\n",
       "    </tr>\n",
       "    <tr>\n",
       "      <th>148</th>\n",
       "      <td>Skin</td>\n",
       "      <td>Sabrina Carpenter</td>\n",
       "    </tr>\n",
       "    <tr>\n",
       "      <th>149</th>\n",
       "      <td>Quicksand</td>\n",
       "      <td>Morray</td>\n",
       "    </tr>\n",
       "  </tbody>\n",
       "</table>\n",
       "<p>150 rows × 2 columns</p>\n",
       "</div>"
      ],
      "text/plain": [
       "               songs                         artists\n",
       "0    BLINDING LIGHTS                     THE WEEKND \n",
       "1              ROSES                      SAINT JHN \n",
       "2       DANCE MONKEY                    TONES AND I \n",
       "3    DON'T START NOW                       DUA LIPA \n",
       "4            THE BOX                    RODDY RICCH \n",
       "..               ...                             ...\n",
       "145    Almost Maybes                    Jordan Davis\n",
       "146      Masterpiece                          DaBaby\n",
       "147         Prisoner  Miley Cyrus Featuring Dua Lipa\n",
       "148             Skin               Sabrina Carpenter\n",
       "149        Quicksand                          Morray\n",
       "\n",
       "[150 rows x 2 columns]"
      ]
     },
     "execution_count": 29,
     "metadata": {},
     "output_type": "execute_result"
    }
   ],
   "source": [
    "tables"
   ]
  },
  {
   "cell_type": "code",
   "execution_count": 30,
   "metadata": {},
   "outputs": [
    {
     "data": {
      "text/html": [
       "<div>\n",
       "<style scoped>\n",
       "    .dataframe tbody tr th:only-of-type {\n",
       "        vertical-align: middle;\n",
       "    }\n",
       "\n",
       "    .dataframe tbody tr th {\n",
       "        vertical-align: top;\n",
       "    }\n",
       "\n",
       "    .dataframe thead th {\n",
       "        text-align: right;\n",
       "    }\n",
       "</style>\n",
       "<table border=\"1\" class=\"dataframe\">\n",
       "  <thead>\n",
       "    <tr style=\"text-align: right;\">\n",
       "      <th></th>\n",
       "      <th>songs</th>\n",
       "      <th>artists</th>\n",
       "    </tr>\n",
       "  </thead>\n",
       "  <tbody>\n",
       "    <tr>\n",
       "      <th>145</th>\n",
       "      <td>Almost Maybes</td>\n",
       "      <td>Jordan Davis</td>\n",
       "    </tr>\n",
       "    <tr>\n",
       "      <th>146</th>\n",
       "      <td>Masterpiece</td>\n",
       "      <td>DaBaby</td>\n",
       "    </tr>\n",
       "    <tr>\n",
       "      <th>147</th>\n",
       "      <td>Prisoner</td>\n",
       "      <td>Miley Cyrus Featuring Dua Lipa</td>\n",
       "    </tr>\n",
       "    <tr>\n",
       "      <th>148</th>\n",
       "      <td>Skin</td>\n",
       "      <td>Sabrina Carpenter</td>\n",
       "    </tr>\n",
       "    <tr>\n",
       "      <th>149</th>\n",
       "      <td>Quicksand</td>\n",
       "      <td>Morray</td>\n",
       "    </tr>\n",
       "  </tbody>\n",
       "</table>\n",
       "</div>"
      ],
      "text/plain": [
       "             songs                         artists\n",
       "145  Almost Maybes                    Jordan Davis\n",
       "146    Masterpiece                          DaBaby\n",
       "147       Prisoner  Miley Cyrus Featuring Dua Lipa\n",
       "148           Skin               Sabrina Carpenter\n",
       "149      Quicksand                          Morray"
      ]
     },
     "execution_count": 30,
     "metadata": {},
     "output_type": "execute_result"
    }
   ],
   "source": [
    "tables.tail()"
   ]
  },
  {
   "cell_type": "code",
   "execution_count": null,
   "metadata": {},
   "outputs": [],
   "source": []
  },
  {
   "cell_type": "code",
   "execution_count": null,
   "metadata": {},
   "outputs": [],
   "source": []
  }
 ],
 "metadata": {
  "kernelspec": {
   "display_name": "Python 3",
   "language": "python",
   "name": "python3"
  },
  "language_info": {
   "codemirror_mode": {
    "name": "ipython",
    "version": 3
   },
   "file_extension": ".py",
   "mimetype": "text/x-python",
   "name": "python",
   "nbconvert_exporter": "python",
   "pygments_lexer": "ipython3",
   "version": "3.8.5"
  }
 },
 "nbformat": 4,
 "nbformat_minor": 4
}
