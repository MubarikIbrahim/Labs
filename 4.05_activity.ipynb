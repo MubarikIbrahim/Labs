{
 "cells": [
  {
   "cell_type": "code",
   "execution_count": 6,
   "metadata": {},
   "outputs": [],
   "source": [
    "import pandas as pd\n",
    "import numpy as np\n",
    "import datetime\n",
    "import warnings\n",
    "warnings.filterwarnings('ignore')\n",
    "warnings.filterwarnings(\"ignore\", message=\"numpy.ufunc size changed\")\n",
    "import matplotlib.pyplot as plt\n",
    "import seaborn as sns\n",
    "%matplotlib inline\n",
    "pd.set_option('display.max_columns', None)\n",
    "import re"
   ]
  },
  {
   "cell_type": "code",
   "execution_count": null,
   "metadata": {},
   "outputs": [],
   "source": []
  },
  {
   "cell_type": "code",
   "execution_count": 7,
   "metadata": {},
   "outputs": [],
   "source": [
    "data = pd.read_csv('C:\\\\Users\\\\mubar\\\\Desktop\\\\GitDemo\\\\super-duper-robot\\\\lesson_4.05_data.csv')"
   ]
  },
  {
   "cell_type": "code",
   "execution_count": 8,
   "metadata": {},
   "outputs": [
    {
     "data": {
      "text/html": [
       "<div>\n",
       "<style scoped>\n",
       "    .dataframe tbody tr th:only-of-type {\n",
       "        vertical-align: middle;\n",
       "    }\n",
       "\n",
       "    .dataframe tbody tr th {\n",
       "        vertical-align: top;\n",
       "    }\n",
       "\n",
       "    .dataframe thead th {\n",
       "        text-align: right;\n",
       "    }\n",
       "</style>\n",
       "<table border=\"1\" class=\"dataframe\">\n",
       "  <thead>\n",
       "    <tr style=\"text-align: right;\">\n",
       "      <th></th>\n",
       "      <th>HV1</th>\n",
       "      <th>IC1</th>\n",
       "      <th>IC5</th>\n",
       "      <th>CARDPROM</th>\n",
       "      <th>NUMPRM12</th>\n",
       "      <th>NGIFTALL</th>\n",
       "      <th>TIMELAG</th>\n",
       "      <th>year</th>\n",
       "      <th>GENDER</th>\n",
       "      <th>HOMEOWNR</th>\n",
       "      <th>DOMAIN_letters</th>\n",
       "      <th>RFA_frequency</th>\n",
       "      <th>RFA_monetary</th>\n",
       "      <th>AVGGIFT</th>\n",
       "    </tr>\n",
       "  </thead>\n",
       "  <tbody>\n",
       "    <tr>\n",
       "      <th>0</th>\n",
       "      <td>479</td>\n",
       "      <td>307</td>\n",
       "      <td>12883</td>\n",
       "      <td>27</td>\n",
       "      <td>14</td>\n",
       "      <td>31</td>\n",
       "      <td>4.0</td>\n",
       "      <td>37.000000</td>\n",
       "      <td>F</td>\n",
       "      <td>other</td>\n",
       "      <td>T</td>\n",
       "      <td>4</td>\n",
       "      <td>E</td>\n",
       "      <td>7.741935</td>\n",
       "    </tr>\n",
       "    <tr>\n",
       "      <th>1</th>\n",
       "      <td>5468</td>\n",
       "      <td>1088</td>\n",
       "      <td>36175</td>\n",
       "      <td>12</td>\n",
       "      <td>13</td>\n",
       "      <td>3</td>\n",
       "      <td>18.0</td>\n",
       "      <td>52.000000</td>\n",
       "      <td>M</td>\n",
       "      <td>H</td>\n",
       "      <td>S</td>\n",
       "      <td>2</td>\n",
       "      <td>G</td>\n",
       "      <td>15.666667</td>\n",
       "    </tr>\n",
       "    <tr>\n",
       "      <th>2</th>\n",
       "      <td>497</td>\n",
       "      <td>251</td>\n",
       "      <td>11576</td>\n",
       "      <td>26</td>\n",
       "      <td>14</td>\n",
       "      <td>27</td>\n",
       "      <td>12.0</td>\n",
       "      <td>37.570799</td>\n",
       "      <td>M</td>\n",
       "      <td>U</td>\n",
       "      <td>R</td>\n",
       "      <td>4</td>\n",
       "      <td>E</td>\n",
       "      <td>7.481481</td>\n",
       "    </tr>\n",
       "    <tr>\n",
       "      <th>3</th>\n",
       "      <td>1000</td>\n",
       "      <td>386</td>\n",
       "      <td>15130</td>\n",
       "      <td>27</td>\n",
       "      <td>14</td>\n",
       "      <td>16</td>\n",
       "      <td>9.0</td>\n",
       "      <td>28.000000</td>\n",
       "      <td>F</td>\n",
       "      <td>U</td>\n",
       "      <td>R</td>\n",
       "      <td>4</td>\n",
       "      <td>E</td>\n",
       "      <td>6.812500</td>\n",
       "    </tr>\n",
       "    <tr>\n",
       "      <th>4</th>\n",
       "      <td>576</td>\n",
       "      <td>240</td>\n",
       "      <td>9836</td>\n",
       "      <td>43</td>\n",
       "      <td>25</td>\n",
       "      <td>37</td>\n",
       "      <td>14.0</td>\n",
       "      <td>20.000000</td>\n",
       "      <td>F</td>\n",
       "      <td>H</td>\n",
       "      <td>S</td>\n",
       "      <td>2</td>\n",
       "      <td>F</td>\n",
       "      <td>6.864865</td>\n",
       "    </tr>\n",
       "  </tbody>\n",
       "</table>\n",
       "</div>"
      ],
      "text/plain": [
       "    HV1   IC1    IC5  CARDPROM  NUMPRM12  NGIFTALL  TIMELAG       year GENDER  \\\n",
       "0   479   307  12883        27        14        31      4.0  37.000000      F   \n",
       "1  5468  1088  36175        12        13         3     18.0  52.000000      M   \n",
       "2   497   251  11576        26        14        27     12.0  37.570799      M   \n",
       "3  1000   386  15130        27        14        16      9.0  28.000000      F   \n",
       "4   576   240   9836        43        25        37     14.0  20.000000      F   \n",
       "\n",
       "  HOMEOWNR DOMAIN_letters  RFA_frequency RFA_monetary    AVGGIFT  \n",
       "0    other              T              4            E   7.741935  \n",
       "1        H              S              2            G  15.666667  \n",
       "2        U              R              4            E   7.481481  \n",
       "3        U              R              4            E   6.812500  \n",
       "4        H              S              2            F   6.864865  "
      ]
     },
     "execution_count": 8,
     "metadata": {},
     "output_type": "execute_result"
    }
   ],
   "source": [
    "data.head()"
   ]
  },
  {
   "cell_type": "code",
   "execution_count": 9,
   "metadata": {},
   "outputs": [
    {
     "data": {
      "text/plain": [
       "HV1                 int64\n",
       "IC1                 int64\n",
       "IC5                 int64\n",
       "CARDPROM            int64\n",
       "NUMPRM12            int64\n",
       "NGIFTALL            int64\n",
       "TIMELAG           float64\n",
       "year              float64\n",
       "GENDER             object\n",
       "HOMEOWNR           object\n",
       "DOMAIN_letters     object\n",
       "RFA_frequency       int64\n",
       "RFA_monetary       object\n",
       "AVGGIFT           float64\n",
       "dtype: object"
      ]
     },
     "execution_count": 9,
     "metadata": {},
     "output_type": "execute_result"
    }
   ],
   "source": [
    "data.dtypes"
   ]
  },
  {
   "cell_type": "code",
   "execution_count": 10,
   "metadata": {},
   "outputs": [],
   "source": [
    "# nulls = pd.DataFrame(data.isna().sum()/len(data))\n",
    "# nulls= nulls.reset_index()\n",
    "# nulls.columns = ['column_name', 'Percentage Null Values']\n",
    "# nulls.sort_values(by='Percentage Null Values', ascending = False)"
   ]
  },
  {
   "cell_type": "code",
   "execution_count": 11,
   "metadata": {},
   "outputs": [],
   "source": [
    "categoricals = data.select_dtypes(np.object)\n",
    "numericals = data.select_dtypes(np.number)"
   ]
  },
  {
   "cell_type": "code",
   "execution_count": 12,
   "metadata": {},
   "outputs": [
    {
     "data": {
      "text/html": [
       "<div>\n",
       "<style scoped>\n",
       "    .dataframe tbody tr th:only-of-type {\n",
       "        vertical-align: middle;\n",
       "    }\n",
       "\n",
       "    .dataframe tbody tr th {\n",
       "        vertical-align: top;\n",
       "    }\n",
       "\n",
       "    .dataframe thead th {\n",
       "        text-align: right;\n",
       "    }\n",
       "</style>\n",
       "<table border=\"1\" class=\"dataframe\">\n",
       "  <thead>\n",
       "    <tr style=\"text-align: right;\">\n",
       "      <th></th>\n",
       "      <th>GENDER</th>\n",
       "      <th>HOMEOWNR</th>\n",
       "      <th>DOMAIN_letters</th>\n",
       "      <th>RFA_monetary</th>\n",
       "    </tr>\n",
       "  </thead>\n",
       "  <tbody>\n",
       "    <tr>\n",
       "      <th>0</th>\n",
       "      <td>F</td>\n",
       "      <td>other</td>\n",
       "      <td>T</td>\n",
       "      <td>E</td>\n",
       "    </tr>\n",
       "    <tr>\n",
       "      <th>1</th>\n",
       "      <td>M</td>\n",
       "      <td>H</td>\n",
       "      <td>S</td>\n",
       "      <td>G</td>\n",
       "    </tr>\n",
       "    <tr>\n",
       "      <th>2</th>\n",
       "      <td>M</td>\n",
       "      <td>U</td>\n",
       "      <td>R</td>\n",
       "      <td>E</td>\n",
       "    </tr>\n",
       "    <tr>\n",
       "      <th>3</th>\n",
       "      <td>F</td>\n",
       "      <td>U</td>\n",
       "      <td>R</td>\n",
       "      <td>E</td>\n",
       "    </tr>\n",
       "    <tr>\n",
       "      <th>4</th>\n",
       "      <td>F</td>\n",
       "      <td>H</td>\n",
       "      <td>S</td>\n",
       "      <td>F</td>\n",
       "    </tr>\n",
       "  </tbody>\n",
       "</table>\n",
       "</div>"
      ],
      "text/plain": [
       "  GENDER HOMEOWNR DOMAIN_letters RFA_monetary\n",
       "0      F    other              T            E\n",
       "1      M        H              S            G\n",
       "2      M        U              R            E\n",
       "3      F        U              R            E\n",
       "4      F        H              S            F"
      ]
     },
     "execution_count": 12,
     "metadata": {},
     "output_type": "execute_result"
    }
   ],
   "source": [
    "categoricals.head()"
   ]
  },
  {
   "cell_type": "code",
   "execution_count": 13,
   "metadata": {},
   "outputs": [
    {
     "data": {
      "text/html": [
       "<div>\n",
       "<style scoped>\n",
       "    .dataframe tbody tr th:only-of-type {\n",
       "        vertical-align: middle;\n",
       "    }\n",
       "\n",
       "    .dataframe tbody tr th {\n",
       "        vertical-align: top;\n",
       "    }\n",
       "\n",
       "    .dataframe thead th {\n",
       "        text-align: right;\n",
       "    }\n",
       "</style>\n",
       "<table border=\"1\" class=\"dataframe\">\n",
       "  <thead>\n",
       "    <tr style=\"text-align: right;\">\n",
       "      <th></th>\n",
       "      <th>HV1</th>\n",
       "      <th>IC1</th>\n",
       "      <th>IC5</th>\n",
       "      <th>CARDPROM</th>\n",
       "      <th>NUMPRM12</th>\n",
       "      <th>NGIFTALL</th>\n",
       "      <th>TIMELAG</th>\n",
       "      <th>year</th>\n",
       "      <th>RFA_frequency</th>\n",
       "      <th>AVGGIFT</th>\n",
       "    </tr>\n",
       "  </thead>\n",
       "  <tbody>\n",
       "    <tr>\n",
       "      <th>0</th>\n",
       "      <td>479</td>\n",
       "      <td>307</td>\n",
       "      <td>12883</td>\n",
       "      <td>27</td>\n",
       "      <td>14</td>\n",
       "      <td>31</td>\n",
       "      <td>4.0</td>\n",
       "      <td>37.000000</td>\n",
       "      <td>4</td>\n",
       "      <td>7.741935</td>\n",
       "    </tr>\n",
       "    <tr>\n",
       "      <th>1</th>\n",
       "      <td>5468</td>\n",
       "      <td>1088</td>\n",
       "      <td>36175</td>\n",
       "      <td>12</td>\n",
       "      <td>13</td>\n",
       "      <td>3</td>\n",
       "      <td>18.0</td>\n",
       "      <td>52.000000</td>\n",
       "      <td>2</td>\n",
       "      <td>15.666667</td>\n",
       "    </tr>\n",
       "    <tr>\n",
       "      <th>2</th>\n",
       "      <td>497</td>\n",
       "      <td>251</td>\n",
       "      <td>11576</td>\n",
       "      <td>26</td>\n",
       "      <td>14</td>\n",
       "      <td>27</td>\n",
       "      <td>12.0</td>\n",
       "      <td>37.570799</td>\n",
       "      <td>4</td>\n",
       "      <td>7.481481</td>\n",
       "    </tr>\n",
       "    <tr>\n",
       "      <th>3</th>\n",
       "      <td>1000</td>\n",
       "      <td>386</td>\n",
       "      <td>15130</td>\n",
       "      <td>27</td>\n",
       "      <td>14</td>\n",
       "      <td>16</td>\n",
       "      <td>9.0</td>\n",
       "      <td>28.000000</td>\n",
       "      <td>4</td>\n",
       "      <td>6.812500</td>\n",
       "    </tr>\n",
       "    <tr>\n",
       "      <th>4</th>\n",
       "      <td>576</td>\n",
       "      <td>240</td>\n",
       "      <td>9836</td>\n",
       "      <td>43</td>\n",
       "      <td>25</td>\n",
       "      <td>37</td>\n",
       "      <td>14.0</td>\n",
       "      <td>20.000000</td>\n",
       "      <td>2</td>\n",
       "      <td>6.864865</td>\n",
       "    </tr>\n",
       "  </tbody>\n",
       "</table>\n",
       "</div>"
      ],
      "text/plain": [
       "    HV1   IC1    IC5  CARDPROM  NUMPRM12  NGIFTALL  TIMELAG       year  \\\n",
       "0   479   307  12883        27        14        31      4.0  37.000000   \n",
       "1  5468  1088  36175        12        13         3     18.0  52.000000   \n",
       "2   497   251  11576        26        14        27     12.0  37.570799   \n",
       "3  1000   386  15130        27        14        16      9.0  28.000000   \n",
       "4   576   240   9836        43        25        37     14.0  20.000000   \n",
       "\n",
       "   RFA_frequency    AVGGIFT  \n",
       "0              4   7.741935  \n",
       "1              2  15.666667  \n",
       "2              4   7.481481  \n",
       "3              4   6.812500  \n",
       "4              2   6.864865  "
      ]
     },
     "execution_count": 13,
     "metadata": {},
     "output_type": "execute_result"
    }
   ],
   "source": [
    "numericals.head()"
   ]
  },
  {
   "cell_type": "code",
   "execution_count": 14,
   "metadata": {},
   "outputs": [],
   "source": [
    "#data['PVASTATE'].value_counts()\n",
    "#data = data.drop(['PVASTATE'], axis=1)"
   ]
  },
  {
   "cell_type": "code",
   "execution_count": 15,
   "metadata": {},
   "outputs": [],
   "source": [
    "#data.head()"
   ]
  },
  {
   "cell_type": "code",
   "execution_count": 16,
   "metadata": {},
   "outputs": [],
   "source": [
    "#data['RECP3'].value_counts()\n",
    "#data = data.drop(['RECP3'], axis=1)"
   ]
  },
  {
   "cell_type": "code",
   "execution_count": 17,
   "metadata": {},
   "outputs": [],
   "source": [
    "#data.head()"
   ]
  },
  {
   "cell_type": "code",
   "execution_count": 18,
   "metadata": {},
   "outputs": [],
   "source": [
    "#data['VETERANS'].value_counts()\n",
    "#data = data.drop(['VETERANS'], axis=1)"
   ]
  },
  {
   "cell_type": "code",
   "execution_count": 19,
   "metadata": {},
   "outputs": [],
   "source": [
    "#data.head()"
   ]
  },
  {
   "cell_type": "code",
   "execution_count": 20,
   "metadata": {},
   "outputs": [
    {
     "data": {
      "text/plain": [
       "H        48677\n",
       "other    20276\n",
       "U        19440\n",
       "Name: HOMEOWNR, dtype: int64"
      ]
     },
     "execution_count": 20,
     "metadata": {},
     "output_type": "execute_result"
    }
   ],
   "source": [
    "data['HOMEOWNR'].value_counts()"
   ]
  },
  {
   "cell_type": "code",
   "execution_count": 21,
   "metadata": {},
   "outputs": [
    {
     "data": {
      "text/plain": [
       "H        48677\n",
       "other    20276\n",
       "U        19440\n",
       "Name: HOMEOWNR, dtype: int64"
      ]
     },
     "execution_count": 21,
     "metadata": {},
     "output_type": "execute_result"
    }
   ],
   "source": [
    "def clean_homeownr(x):\n",
    "    if x == \" \":\n",
    "        return 'other'\n",
    "    else:\n",
    "        return x\n",
    "data['HOMEOWNR'] = list(map(clean_homeownr, data['HOMEOWNR']))\n",
    "data['HOMEOWNR'].value_counts()"
   ]
  },
  {
   "cell_type": "code",
   "execution_count": 22,
   "metadata": {},
   "outputs": [
    {
     "data": {
      "text/plain": [
       "F        47547\n",
       "M        36242\n",
       "other     4604\n",
       "Name: GENDER, dtype: int64"
      ]
     },
     "execution_count": 22,
     "metadata": {},
     "output_type": "execute_result"
    }
   ],
   "source": [
    "data['GENDER'].value_counts()"
   ]
  },
  {
   "cell_type": "code",
   "execution_count": 23,
   "metadata": {},
   "outputs": [
    {
     "data": {
      "text/plain": [
       "F        47547\n",
       "M        36242\n",
       "other     4604\n",
       "Name: GENDER, dtype: int64"
      ]
     },
     "execution_count": 23,
     "metadata": {},
     "output_type": "execute_result"
    }
   ],
   "source": [
    "def clean_gender_col(x):\n",
    "    if x in ['',' ' ,'U', 'C', 'J', 'A']:\n",
    "        return 'other'\n",
    "    else:\n",
    "        return x\n",
    "data['GENDER'] = list(map(clean_gender_col, data['GENDER']))\n",
    "data['GENDER'].value_counts()"
   ]
  },
  {
   "cell_type": "code",
   "execution_count": 24,
   "metadata": {},
   "outputs": [],
   "source": [
    "#data['MDMAUD'].value_counts()\n",
    "#data = data.drop(['MDMAUD'], axis=1)"
   ]
  },
  {
   "cell_type": "code",
   "execution_count": 25,
   "metadata": {},
   "outputs": [
    {
     "data": {
      "text/html": [
       "<div>\n",
       "<style scoped>\n",
       "    .dataframe tbody tr th:only-of-type {\n",
       "        vertical-align: middle;\n",
       "    }\n",
       "\n",
       "    .dataframe tbody tr th {\n",
       "        vertical-align: top;\n",
       "    }\n",
       "\n",
       "    .dataframe thead th {\n",
       "        text-align: right;\n",
       "    }\n",
       "</style>\n",
       "<table border=\"1\" class=\"dataframe\">\n",
       "  <thead>\n",
       "    <tr style=\"text-align: right;\">\n",
       "      <th></th>\n",
       "      <th>GENDER</th>\n",
       "      <th>HOMEOWNR</th>\n",
       "      <th>DOMAIN_letters</th>\n",
       "      <th>RFA_monetary</th>\n",
       "    </tr>\n",
       "  </thead>\n",
       "  <tbody>\n",
       "    <tr>\n",
       "      <th>0</th>\n",
       "      <td>F</td>\n",
       "      <td>other</td>\n",
       "      <td>T</td>\n",
       "      <td>E</td>\n",
       "    </tr>\n",
       "    <tr>\n",
       "      <th>1</th>\n",
       "      <td>M</td>\n",
       "      <td>H</td>\n",
       "      <td>S</td>\n",
       "      <td>G</td>\n",
       "    </tr>\n",
       "    <tr>\n",
       "      <th>2</th>\n",
       "      <td>M</td>\n",
       "      <td>U</td>\n",
       "      <td>R</td>\n",
       "      <td>E</td>\n",
       "    </tr>\n",
       "    <tr>\n",
       "      <th>3</th>\n",
       "      <td>F</td>\n",
       "      <td>U</td>\n",
       "      <td>R</td>\n",
       "      <td>E</td>\n",
       "    </tr>\n",
       "    <tr>\n",
       "      <th>4</th>\n",
       "      <td>F</td>\n",
       "      <td>H</td>\n",
       "      <td>S</td>\n",
       "      <td>F</td>\n",
       "    </tr>\n",
       "  </tbody>\n",
       "</table>\n",
       "</div>"
      ],
      "text/plain": [
       "  GENDER HOMEOWNR DOMAIN_letters RFA_monetary\n",
       "0      F    other              T            E\n",
       "1      M        H              S            G\n",
       "2      M        U              R            E\n",
       "3      F        U              R            E\n",
       "4      F        H              S            F"
      ]
     },
     "execution_count": 25,
     "metadata": {},
     "output_type": "execute_result"
    }
   ],
   "source": [
    "categoricals = data.select_dtypes(np.object)\n",
    "categoricals.head()"
   ]
  },
  {
   "cell_type": "code",
   "execution_count": 31,
   "metadata": {},
   "outputs": [],
   "source": [
    "data = data[data['DOMAIN_letters']!=' ']"
   ]
  },
  {
   "cell_type": "code",
   "execution_count": 32,
   "metadata": {},
   "outputs": [
    {
     "data": {
      "text/plain": [
       "S    20737\n",
       "R    18863\n",
       "C    18683\n",
       "T    18521\n",
       "U    11589\n",
       "Name: DOMAIN_letters, dtype: int64"
      ]
     },
     "execution_count": 32,
     "metadata": {},
     "output_type": "execute_result"
    }
   ],
   "source": [
    "data['DOMAIN_letters'].value_counts()"
   ]
  },
  {
   "cell_type": "code",
   "execution_count": 33,
   "metadata": {},
   "outputs": [
    {
     "data": {
      "text/plain": [
       "['T']"
      ]
     },
     "execution_count": 33,
     "metadata": {},
     "output_type": "execute_result"
    }
   ],
   "source": [
    "pattern = '[UCSTR]'\n",
    "re.findall(pattern, data['DOMAIN_letters'][0])"
   ]
  },
  {
   "cell_type": "code",
   "execution_count": 34,
   "metadata": {},
   "outputs": [],
   "source": [
    "data['DOMAIN_letters'] = list(map(lambda x: re.findall(pattern, x)[0], data['DOMAIN_letters']))"
   ]
  },
  {
   "cell_type": "code",
   "execution_count": 35,
   "metadata": {},
   "outputs": [],
   "source": [
    "data = data.drop(['DOMAIN_letters'], axis=1)"
   ]
  },
  {
   "cell_type": "code",
   "execution_count": 37,
   "metadata": {},
   "outputs": [],
   "source": [
    "#data = data.drop(['STATE'], axis=1)"
   ]
  },
  {
   "cell_type": "code",
   "execution_count": 38,
   "metadata": {},
   "outputs": [
    {
     "data": {
      "text/html": [
       "<div>\n",
       "<style scoped>\n",
       "    .dataframe tbody tr th:only-of-type {\n",
       "        vertical-align: middle;\n",
       "    }\n",
       "\n",
       "    .dataframe tbody tr th {\n",
       "        vertical-align: top;\n",
       "    }\n",
       "\n",
       "    .dataframe thead th {\n",
       "        text-align: right;\n",
       "    }\n",
       "</style>\n",
       "<table border=\"1\" class=\"dataframe\">\n",
       "  <thead>\n",
       "    <tr style=\"text-align: right;\">\n",
       "      <th></th>\n",
       "      <th>HV1</th>\n",
       "      <th>IC1</th>\n",
       "      <th>IC5</th>\n",
       "      <th>CARDPROM</th>\n",
       "      <th>NUMPRM12</th>\n",
       "      <th>NGIFTALL</th>\n",
       "      <th>TIMELAG</th>\n",
       "      <th>year</th>\n",
       "      <th>GENDER</th>\n",
       "      <th>HOMEOWNR</th>\n",
       "      <th>RFA_frequency</th>\n",
       "      <th>RFA_monetary</th>\n",
       "      <th>AVGGIFT</th>\n",
       "    </tr>\n",
       "  </thead>\n",
       "  <tbody>\n",
       "    <tr>\n",
       "      <th>0</th>\n",
       "      <td>479</td>\n",
       "      <td>307</td>\n",
       "      <td>12883</td>\n",
       "      <td>27</td>\n",
       "      <td>14</td>\n",
       "      <td>31</td>\n",
       "      <td>4.0</td>\n",
       "      <td>37.000000</td>\n",
       "      <td>F</td>\n",
       "      <td>other</td>\n",
       "      <td>4</td>\n",
       "      <td>E</td>\n",
       "      <td>7.741935</td>\n",
       "    </tr>\n",
       "    <tr>\n",
       "      <th>1</th>\n",
       "      <td>5468</td>\n",
       "      <td>1088</td>\n",
       "      <td>36175</td>\n",
       "      <td>12</td>\n",
       "      <td>13</td>\n",
       "      <td>3</td>\n",
       "      <td>18.0</td>\n",
       "      <td>52.000000</td>\n",
       "      <td>M</td>\n",
       "      <td>H</td>\n",
       "      <td>2</td>\n",
       "      <td>G</td>\n",
       "      <td>15.666667</td>\n",
       "    </tr>\n",
       "    <tr>\n",
       "      <th>2</th>\n",
       "      <td>497</td>\n",
       "      <td>251</td>\n",
       "      <td>11576</td>\n",
       "      <td>26</td>\n",
       "      <td>14</td>\n",
       "      <td>27</td>\n",
       "      <td>12.0</td>\n",
       "      <td>37.570799</td>\n",
       "      <td>M</td>\n",
       "      <td>U</td>\n",
       "      <td>4</td>\n",
       "      <td>E</td>\n",
       "      <td>7.481481</td>\n",
       "    </tr>\n",
       "    <tr>\n",
       "      <th>3</th>\n",
       "      <td>1000</td>\n",
       "      <td>386</td>\n",
       "      <td>15130</td>\n",
       "      <td>27</td>\n",
       "      <td>14</td>\n",
       "      <td>16</td>\n",
       "      <td>9.0</td>\n",
       "      <td>28.000000</td>\n",
       "      <td>F</td>\n",
       "      <td>U</td>\n",
       "      <td>4</td>\n",
       "      <td>E</td>\n",
       "      <td>6.812500</td>\n",
       "    </tr>\n",
       "    <tr>\n",
       "      <th>4</th>\n",
       "      <td>576</td>\n",
       "      <td>240</td>\n",
       "      <td>9836</td>\n",
       "      <td>43</td>\n",
       "      <td>25</td>\n",
       "      <td>37</td>\n",
       "      <td>14.0</td>\n",
       "      <td>20.000000</td>\n",
       "      <td>F</td>\n",
       "      <td>H</td>\n",
       "      <td>2</td>\n",
       "      <td>F</td>\n",
       "      <td>6.864865</td>\n",
       "    </tr>\n",
       "  </tbody>\n",
       "</table>\n",
       "</div>"
      ],
      "text/plain": [
       "    HV1   IC1    IC5  CARDPROM  NUMPRM12  NGIFTALL  TIMELAG       year GENDER  \\\n",
       "0   479   307  12883        27        14        31      4.0  37.000000      F   \n",
       "1  5468  1088  36175        12        13         3     18.0  52.000000      M   \n",
       "2   497   251  11576        26        14        27     12.0  37.570799      M   \n",
       "3  1000   386  15130        27        14        16      9.0  28.000000      F   \n",
       "4   576   240   9836        43        25        37     14.0  20.000000      F   \n",
       "\n",
       "  HOMEOWNR  RFA_frequency RFA_monetary    AVGGIFT  \n",
       "0    other              4            E   7.741935  \n",
       "1        H              2            G  15.666667  \n",
       "2        U              4            E   7.481481  \n",
       "3        U              4            E   6.812500  \n",
       "4        H              2            F   6.864865  "
      ]
     },
     "execution_count": 38,
     "metadata": {},
     "output_type": "execute_result"
    }
   ],
   "source": [
    "data.head()"
   ]
  },
  {
   "cell_type": "code",
   "execution_count": null,
   "metadata": {},
   "outputs": [],
   "source": []
  },
  {
   "cell_type": "code",
   "execution_count": 39,
   "metadata": {},
   "outputs": [
    {
     "data": {
      "text/plain": [
       "F    43920\n",
       "E    19688\n",
       "G    18228\n",
       "D     6557\n",
       "Name: RFA_monetary, dtype: int64"
      ]
     },
     "execution_count": 39,
     "metadata": {},
     "output_type": "execute_result"
    }
   ],
   "source": [
    "data['RFA_monetary'].value_counts()"
   ]
  },
  {
   "cell_type": "code",
   "execution_count": 40,
   "metadata": {},
   "outputs": [
    {
     "data": {
      "text/plain": [
       "['E']"
      ]
     },
     "execution_count": 40,
     "metadata": {},
     "output_type": "execute_result"
    }
   ],
   "source": [
    "pattern = '\\w'\n",
    "re.findall(pattern, data['RFA_monetary'][0])"
   ]
  },
  {
   "cell_type": "code",
   "execution_count": 43,
   "metadata": {},
   "outputs": [
    {
     "ename": "IndexError",
     "evalue": "list index out of range",
     "output_type": "error",
     "traceback": [
      "\u001b[1;31m---------------------------------------------------------------------------\u001b[0m",
      "\u001b[1;31mIndexError\u001b[0m                                Traceback (most recent call last)",
      "\u001b[1;32m<ipython-input-43-3686182b5f2e>\u001b[0m in \u001b[0;36m<module>\u001b[1;34m\u001b[0m\n\u001b[1;32m----> 1\u001b[1;33m \u001b[0mdata\u001b[0m\u001b[1;33m[\u001b[0m\u001b[1;34m'RFA_frequency'\u001b[0m\u001b[1;33m]\u001b[0m \u001b[1;33m=\u001b[0m \u001b[0mlist\u001b[0m\u001b[1;33m(\u001b[0m\u001b[0mmap\u001b[0m\u001b[1;33m(\u001b[0m\u001b[1;32mlambda\u001b[0m \u001b[0mx\u001b[0m\u001b[1;33m:\u001b[0m \u001b[0mre\u001b[0m\u001b[1;33m.\u001b[0m\u001b[0mfindall\u001b[0m\u001b[1;33m(\u001b[0m\u001b[0mpattern\u001b[0m\u001b[1;33m,\u001b[0m \u001b[0mx\u001b[0m\u001b[1;33m)\u001b[0m\u001b[1;33m[\u001b[0m\u001b[1;36m1\u001b[0m\u001b[1;33m]\u001b[0m\u001b[1;33m,\u001b[0m \u001b[0mdata\u001b[0m\u001b[1;33m[\u001b[0m\u001b[1;34m'RFA_monetary'\u001b[0m\u001b[1;33m]\u001b[0m\u001b[1;33m)\u001b[0m\u001b[1;33m)\u001b[0m\u001b[1;33m\u001b[0m\u001b[1;33m\u001b[0m\u001b[0m\n\u001b[0m",
      "\u001b[1;32m<ipython-input-43-3686182b5f2e>\u001b[0m in \u001b[0;36m<lambda>\u001b[1;34m(x)\u001b[0m\n\u001b[1;32m----> 1\u001b[1;33m \u001b[0mdata\u001b[0m\u001b[1;33m[\u001b[0m\u001b[1;34m'RFA_frequency'\u001b[0m\u001b[1;33m]\u001b[0m \u001b[1;33m=\u001b[0m \u001b[0mlist\u001b[0m\u001b[1;33m(\u001b[0m\u001b[0mmap\u001b[0m\u001b[1;33m(\u001b[0m\u001b[1;32mlambda\u001b[0m \u001b[0mx\u001b[0m\u001b[1;33m:\u001b[0m \u001b[0mre\u001b[0m\u001b[1;33m.\u001b[0m\u001b[0mfindall\u001b[0m\u001b[1;33m(\u001b[0m\u001b[0mpattern\u001b[0m\u001b[1;33m,\u001b[0m \u001b[0mx\u001b[0m\u001b[1;33m)\u001b[0m\u001b[1;33m[\u001b[0m\u001b[1;36m1\u001b[0m\u001b[1;33m]\u001b[0m\u001b[1;33m,\u001b[0m \u001b[0mdata\u001b[0m\u001b[1;33m[\u001b[0m\u001b[1;34m'RFA_monetary'\u001b[0m\u001b[1;33m]\u001b[0m\u001b[1;33m)\u001b[0m\u001b[1;33m)\u001b[0m\u001b[1;33m\u001b[0m\u001b[1;33m\u001b[0m\u001b[0m\n\u001b[0m",
      "\u001b[1;31mIndexError\u001b[0m: list index out of range"
     ]
    }
   ],
   "source": [
    "data['RFA_frequency'] = list(map(lambda x: re.findall(pattern, x)[1], data['RFA_monetary']))"
   ]
  },
  {
   "cell_type": "code",
   "execution_count": 44,
   "metadata": {},
   "outputs": [
    {
     "ename": "TypeError",
     "evalue": "expected string or bytes-like object",
     "output_type": "error",
     "traceback": [
      "\u001b[1;31m---------------------------------------------------------------------------\u001b[0m",
      "\u001b[1;31mTypeError\u001b[0m                                 Traceback (most recent call last)",
      "\u001b[1;32m<ipython-input-44-0ecc04ed882a>\u001b[0m in \u001b[0;36m<module>\u001b[1;34m\u001b[0m\n\u001b[1;32m----> 1\u001b[1;33m \u001b[0mdata\u001b[0m\u001b[1;33m[\u001b[0m\u001b[1;34m'RFA_monetary'\u001b[0m\u001b[1;33m]\u001b[0m \u001b[1;33m=\u001b[0m \u001b[0mlist\u001b[0m\u001b[1;33m(\u001b[0m\u001b[0mmap\u001b[0m\u001b[1;33m(\u001b[0m\u001b[1;32mlambda\u001b[0m \u001b[0mx\u001b[0m\u001b[1;33m:\u001b[0m \u001b[0mre\u001b[0m\u001b[1;33m.\u001b[0m\u001b[0mfindall\u001b[0m\u001b[1;33m(\u001b[0m\u001b[0mpattern\u001b[0m\u001b[1;33m,\u001b[0m \u001b[0mx\u001b[0m\u001b[1;33m)\u001b[0m\u001b[1;33m[\u001b[0m\u001b[1;36m2\u001b[0m\u001b[1;33m]\u001b[0m\u001b[1;33m,\u001b[0m \u001b[0mdata\u001b[0m\u001b[1;33m[\u001b[0m\u001b[1;34m'RFA_frequency'\u001b[0m\u001b[1;33m]\u001b[0m\u001b[1;33m)\u001b[0m\u001b[1;33m)\u001b[0m\u001b[1;33m\u001b[0m\u001b[1;33m\u001b[0m\u001b[0m\n\u001b[0m",
      "\u001b[1;32m<ipython-input-44-0ecc04ed882a>\u001b[0m in \u001b[0;36m<lambda>\u001b[1;34m(x)\u001b[0m\n\u001b[1;32m----> 1\u001b[1;33m \u001b[0mdata\u001b[0m\u001b[1;33m[\u001b[0m\u001b[1;34m'RFA_monetary'\u001b[0m\u001b[1;33m]\u001b[0m \u001b[1;33m=\u001b[0m \u001b[0mlist\u001b[0m\u001b[1;33m(\u001b[0m\u001b[0mmap\u001b[0m\u001b[1;33m(\u001b[0m\u001b[1;32mlambda\u001b[0m \u001b[0mx\u001b[0m\u001b[1;33m:\u001b[0m \u001b[0mre\u001b[0m\u001b[1;33m.\u001b[0m\u001b[0mfindall\u001b[0m\u001b[1;33m(\u001b[0m\u001b[0mpattern\u001b[0m\u001b[1;33m,\u001b[0m \u001b[0mx\u001b[0m\u001b[1;33m)\u001b[0m\u001b[1;33m[\u001b[0m\u001b[1;36m2\u001b[0m\u001b[1;33m]\u001b[0m\u001b[1;33m,\u001b[0m \u001b[0mdata\u001b[0m\u001b[1;33m[\u001b[0m\u001b[1;34m'RFA_frequency'\u001b[0m\u001b[1;33m]\u001b[0m\u001b[1;33m)\u001b[0m\u001b[1;33m)\u001b[0m\u001b[1;33m\u001b[0m\u001b[1;33m\u001b[0m\u001b[0m\n\u001b[0m",
      "\u001b[1;32mc:\\python\\python391\\lib\\re.py\u001b[0m in \u001b[0;36mfindall\u001b[1;34m(pattern, string, flags)\u001b[0m\n\u001b[0;32m    239\u001b[0m \u001b[1;33m\u001b[0m\u001b[0m\n\u001b[0;32m    240\u001b[0m     Empty matches are included in the result.\"\"\"\n\u001b[1;32m--> 241\u001b[1;33m     \u001b[1;32mreturn\u001b[0m \u001b[0m_compile\u001b[0m\u001b[1;33m(\u001b[0m\u001b[0mpattern\u001b[0m\u001b[1;33m,\u001b[0m \u001b[0mflags\u001b[0m\u001b[1;33m)\u001b[0m\u001b[1;33m.\u001b[0m\u001b[0mfindall\u001b[0m\u001b[1;33m(\u001b[0m\u001b[0mstring\u001b[0m\u001b[1;33m)\u001b[0m\u001b[1;33m\u001b[0m\u001b[1;33m\u001b[0m\u001b[0m\n\u001b[0m\u001b[0;32m    242\u001b[0m \u001b[1;33m\u001b[0m\u001b[0m\n\u001b[0;32m    243\u001b[0m \u001b[1;32mdef\u001b[0m \u001b[0mfinditer\u001b[0m\u001b[1;33m(\u001b[0m\u001b[0mpattern\u001b[0m\u001b[1;33m,\u001b[0m \u001b[0mstring\u001b[0m\u001b[1;33m,\u001b[0m \u001b[0mflags\u001b[0m\u001b[1;33m=\u001b[0m\u001b[1;36m0\u001b[0m\u001b[1;33m)\u001b[0m\u001b[1;33m:\u001b[0m\u001b[1;33m\u001b[0m\u001b[1;33m\u001b[0m\u001b[0m\n",
      "\u001b[1;31mTypeError\u001b[0m: expected string or bytes-like object"
     ]
    }
   ],
   "source": [
    "data['RFA_monetary'] = list(map(lambda x: re.findall(pattern, x)[2], data['RFA_frequency']))"
   ]
  },
  {
   "cell_type": "code",
   "execution_count": 27,
   "metadata": {},
   "outputs": [],
   "source": [
    "data = data.drop(['RFA_2'], axis=1)"
   ]
  },
  {
   "cell_type": "code",
   "execution_count": 28,
   "metadata": {},
   "outputs": [],
   "source": [
    "data = data.drop(['MAXADATE'], axis=1)"
   ]
  },
  {
   "cell_type": "code",
   "execution_count": 29,
   "metadata": {},
   "outputs": [
    {
     "data": {
      "text/html": [
       "<div>\n",
       "<style scoped>\n",
       "    .dataframe tbody tr th:only-of-type {\n",
       "        vertical-align: middle;\n",
       "    }\n",
       "\n",
       "    .dataframe tbody tr th {\n",
       "        vertical-align: top;\n",
       "    }\n",
       "\n",
       "    .dataframe thead th {\n",
       "        text-align: right;\n",
       "    }\n",
       "</style>\n",
       "<table border=\"1\" class=\"dataframe\">\n",
       "  <thead>\n",
       "    <tr style=\"text-align: right;\">\n",
       "      <th></th>\n",
       "      <th>DOB</th>\n",
       "      <th>GENDER</th>\n",
       "      <th>INCOME</th>\n",
       "      <th>HOMEOWNR</th>\n",
       "      <th>HV1</th>\n",
       "      <th>HV2</th>\n",
       "      <th>HV3</th>\n",
       "      <th>HV4</th>\n",
       "      <th>IC1</th>\n",
       "      <th>IC2</th>\n",
       "      <th>IC3</th>\n",
       "      <th>IC4</th>\n",
       "      <th>IC5</th>\n",
       "      <th>NUMPROM</th>\n",
       "      <th>CARDPROM</th>\n",
       "      <th>CARDPM12</th>\n",
       "      <th>NUMPRM12</th>\n",
       "      <th>NGIFTALL</th>\n",
       "      <th>TIMELAG</th>\n",
       "      <th>AVGGIFT</th>\n",
       "      <th>DOMAIN_letters</th>\n",
       "      <th>RFA_frequency</th>\n",
       "      <th>RFA_monetary</th>\n",
       "    </tr>\n",
       "  </thead>\n",
       "  <tbody>\n",
       "    <tr>\n",
       "      <th>0</th>\n",
       "      <td>3712</td>\n",
       "      <td>F</td>\n",
       "      <td>NaN</td>\n",
       "      <td>other</td>\n",
       "      <td>479</td>\n",
       "      <td>635</td>\n",
       "      <td>3</td>\n",
       "      <td>2</td>\n",
       "      <td>307</td>\n",
       "      <td>318</td>\n",
       "      <td>349</td>\n",
       "      <td>378</td>\n",
       "      <td>12883</td>\n",
       "      <td>74</td>\n",
       "      <td>27</td>\n",
       "      <td>6</td>\n",
       "      <td>14</td>\n",
       "      <td>31</td>\n",
       "      <td>4.0</td>\n",
       "      <td>7.741935</td>\n",
       "      <td>T</td>\n",
       "      <td>4</td>\n",
       "      <td>E</td>\n",
       "    </tr>\n",
       "    <tr>\n",
       "      <th>1</th>\n",
       "      <td>5202</td>\n",
       "      <td>M</td>\n",
       "      <td>6.0</td>\n",
       "      <td>H</td>\n",
       "      <td>5468</td>\n",
       "      <td>5218</td>\n",
       "      <td>12</td>\n",
       "      <td>10</td>\n",
       "      <td>1088</td>\n",
       "      <td>1096</td>\n",
       "      <td>1026</td>\n",
       "      <td>1037</td>\n",
       "      <td>36175</td>\n",
       "      <td>32</td>\n",
       "      <td>12</td>\n",
       "      <td>6</td>\n",
       "      <td>13</td>\n",
       "      <td>3</td>\n",
       "      <td>18.0</td>\n",
       "      <td>15.666667</td>\n",
       "      <td>S</td>\n",
       "      <td>2</td>\n",
       "      <td>G</td>\n",
       "    </tr>\n",
       "    <tr>\n",
       "      <th>2</th>\n",
       "      <td>0</td>\n",
       "      <td>M</td>\n",
       "      <td>3.0</td>\n",
       "      <td>U</td>\n",
       "      <td>497</td>\n",
       "      <td>546</td>\n",
       "      <td>2</td>\n",
       "      <td>1</td>\n",
       "      <td>251</td>\n",
       "      <td>292</td>\n",
       "      <td>292</td>\n",
       "      <td>340</td>\n",
       "      <td>11576</td>\n",
       "      <td>63</td>\n",
       "      <td>26</td>\n",
       "      <td>6</td>\n",
       "      <td>14</td>\n",
       "      <td>27</td>\n",
       "      <td>12.0</td>\n",
       "      <td>7.481481</td>\n",
       "      <td>R</td>\n",
       "      <td>4</td>\n",
       "      <td>E</td>\n",
       "    </tr>\n",
       "    <tr>\n",
       "      <th>3</th>\n",
       "      <td>2801</td>\n",
       "      <td>F</td>\n",
       "      <td>1.0</td>\n",
       "      <td>U</td>\n",
       "      <td>1000</td>\n",
       "      <td>1263</td>\n",
       "      <td>2</td>\n",
       "      <td>1</td>\n",
       "      <td>386</td>\n",
       "      <td>388</td>\n",
       "      <td>396</td>\n",
       "      <td>423</td>\n",
       "      <td>15130</td>\n",
       "      <td>66</td>\n",
       "      <td>27</td>\n",
       "      <td>6</td>\n",
       "      <td>14</td>\n",
       "      <td>16</td>\n",
       "      <td>9.0</td>\n",
       "      <td>6.812500</td>\n",
       "      <td>R</td>\n",
       "      <td>4</td>\n",
       "      <td>E</td>\n",
       "    </tr>\n",
       "    <tr>\n",
       "      <th>4</th>\n",
       "      <td>2001</td>\n",
       "      <td>F</td>\n",
       "      <td>3.0</td>\n",
       "      <td>H</td>\n",
       "      <td>576</td>\n",
       "      <td>594</td>\n",
       "      <td>4</td>\n",
       "      <td>3</td>\n",
       "      <td>240</td>\n",
       "      <td>250</td>\n",
       "      <td>293</td>\n",
       "      <td>321</td>\n",
       "      <td>9836</td>\n",
       "      <td>113</td>\n",
       "      <td>43</td>\n",
       "      <td>10</td>\n",
       "      <td>25</td>\n",
       "      <td>37</td>\n",
       "      <td>14.0</td>\n",
       "      <td>6.864865</td>\n",
       "      <td>S</td>\n",
       "      <td>2</td>\n",
       "      <td>F</td>\n",
       "    </tr>\n",
       "  </tbody>\n",
       "</table>\n",
       "</div>"
      ],
      "text/plain": [
       "    DOB GENDER  INCOME HOMEOWNR   HV1   HV2  HV3  HV4   IC1   IC2   IC3   IC4  \\\n",
       "0  3712      F     NaN    other   479   635    3    2   307   318   349   378   \n",
       "1  5202      M     6.0        H  5468  5218   12   10  1088  1096  1026  1037   \n",
       "2     0      M     3.0        U   497   546    2    1   251   292   292   340   \n",
       "3  2801      F     1.0        U  1000  1263    2    1   386   388   396   423   \n",
       "4  2001      F     3.0        H   576   594    4    3   240   250   293   321   \n",
       "\n",
       "     IC5  NUMPROM  CARDPROM  CARDPM12  NUMPRM12  NGIFTALL  TIMELAG    AVGGIFT  \\\n",
       "0  12883       74        27         6        14        31      4.0   7.741935   \n",
       "1  36175       32        12         6        13         3     18.0  15.666667   \n",
       "2  11576       63        26         6        14        27     12.0   7.481481   \n",
       "3  15130       66        27         6        14        16      9.0   6.812500   \n",
       "4   9836      113        43        10        25        37     14.0   6.864865   \n",
       "\n",
       "  DOMAIN_letters RFA_frequency RFA_monetary  \n",
       "0              T             4            E  \n",
       "1              S             2            G  \n",
       "2              R             4            E  \n",
       "3              R             4            E  \n",
       "4              S             2            F  "
      ]
     },
     "execution_count": 29,
     "metadata": {},
     "output_type": "execute_result"
    }
   ],
   "source": [
    "data.head()"
   ]
  },
  {
   "cell_type": "code",
   "execution_count": 30,
   "metadata": {},
   "outputs": [],
   "source": [
    "def year_clean(x):\n",
    "    x = str(x)\n",
    "    if len(x)<4:\n",
    "        return np.nan\n",
    "    else:\n",
    "        pattern = '\\d\\d'\n",
    "        yr = re.findall(pattern,x)[0]\n",
    "        return int(yr)"
   ]
  },
  {
   "cell_type": "code",
   "execution_count": 31,
   "metadata": {},
   "outputs": [],
   "source": [
    "data['year'] = list(map(year_clean, data['DOB']))"
   ]
  },
  {
   "cell_type": "code",
   "execution_count": 32,
   "metadata": {},
   "outputs": [],
   "source": [
    "data['year'] = data['year'].fillna(np.mean(data['year']))"
   ]
  },
  {
   "cell_type": "code",
   "execution_count": 33,
   "metadata": {},
   "outputs": [],
   "source": [
    "data = data.drop(['DOB'], axis=1)"
   ]
  },
  {
   "cell_type": "code",
   "execution_count": 34,
   "metadata": {},
   "outputs": [
    {
     "data": {
      "text/html": [
       "<div>\n",
       "<style scoped>\n",
       "    .dataframe tbody tr th:only-of-type {\n",
       "        vertical-align: middle;\n",
       "    }\n",
       "\n",
       "    .dataframe tbody tr th {\n",
       "        vertical-align: top;\n",
       "    }\n",
       "\n",
       "    .dataframe thead th {\n",
       "        text-align: right;\n",
       "    }\n",
       "</style>\n",
       "<table border=\"1\" class=\"dataframe\">\n",
       "  <thead>\n",
       "    <tr style=\"text-align: right;\">\n",
       "      <th></th>\n",
       "      <th>GENDER</th>\n",
       "      <th>INCOME</th>\n",
       "      <th>HOMEOWNR</th>\n",
       "      <th>HV1</th>\n",
       "      <th>HV2</th>\n",
       "      <th>HV3</th>\n",
       "      <th>HV4</th>\n",
       "      <th>IC1</th>\n",
       "      <th>IC2</th>\n",
       "      <th>IC3</th>\n",
       "      <th>IC4</th>\n",
       "      <th>IC5</th>\n",
       "      <th>NUMPROM</th>\n",
       "      <th>CARDPROM</th>\n",
       "      <th>CARDPM12</th>\n",
       "      <th>NUMPRM12</th>\n",
       "      <th>NGIFTALL</th>\n",
       "      <th>TIMELAG</th>\n",
       "      <th>AVGGIFT</th>\n",
       "      <th>DOMAIN_letters</th>\n",
       "      <th>RFA_frequency</th>\n",
       "      <th>RFA_monetary</th>\n",
       "      <th>year</th>\n",
       "    </tr>\n",
       "  </thead>\n",
       "  <tbody>\n",
       "    <tr>\n",
       "      <th>0</th>\n",
       "      <td>F</td>\n",
       "      <td>NaN</td>\n",
       "      <td>other</td>\n",
       "      <td>479</td>\n",
       "      <td>635</td>\n",
       "      <td>3</td>\n",
       "      <td>2</td>\n",
       "      <td>307</td>\n",
       "      <td>318</td>\n",
       "      <td>349</td>\n",
       "      <td>378</td>\n",
       "      <td>12883</td>\n",
       "      <td>74</td>\n",
       "      <td>27</td>\n",
       "      <td>6</td>\n",
       "      <td>14</td>\n",
       "      <td>31</td>\n",
       "      <td>4.0</td>\n",
       "      <td>7.741935</td>\n",
       "      <td>T</td>\n",
       "      <td>4</td>\n",
       "      <td>E</td>\n",
       "      <td>37.0000</td>\n",
       "    </tr>\n",
       "    <tr>\n",
       "      <th>1</th>\n",
       "      <td>M</td>\n",
       "      <td>6.0</td>\n",
       "      <td>H</td>\n",
       "      <td>5468</td>\n",
       "      <td>5218</td>\n",
       "      <td>12</td>\n",
       "      <td>10</td>\n",
       "      <td>1088</td>\n",
       "      <td>1096</td>\n",
       "      <td>1026</td>\n",
       "      <td>1037</td>\n",
       "      <td>36175</td>\n",
       "      <td>32</td>\n",
       "      <td>12</td>\n",
       "      <td>6</td>\n",
       "      <td>13</td>\n",
       "      <td>3</td>\n",
       "      <td>18.0</td>\n",
       "      <td>15.666667</td>\n",
       "      <td>S</td>\n",
       "      <td>2</td>\n",
       "      <td>G</td>\n",
       "      <td>52.0000</td>\n",
       "    </tr>\n",
       "    <tr>\n",
       "      <th>2</th>\n",
       "      <td>M</td>\n",
       "      <td>3.0</td>\n",
       "      <td>U</td>\n",
       "      <td>497</td>\n",
       "      <td>546</td>\n",
       "      <td>2</td>\n",
       "      <td>1</td>\n",
       "      <td>251</td>\n",
       "      <td>292</td>\n",
       "      <td>292</td>\n",
       "      <td>340</td>\n",
       "      <td>11576</td>\n",
       "      <td>63</td>\n",
       "      <td>26</td>\n",
       "      <td>6</td>\n",
       "      <td>14</td>\n",
       "      <td>27</td>\n",
       "      <td>12.0</td>\n",
       "      <td>7.481481</td>\n",
       "      <td>R</td>\n",
       "      <td>4</td>\n",
       "      <td>E</td>\n",
       "      <td>37.5708</td>\n",
       "    </tr>\n",
       "    <tr>\n",
       "      <th>3</th>\n",
       "      <td>F</td>\n",
       "      <td>1.0</td>\n",
       "      <td>U</td>\n",
       "      <td>1000</td>\n",
       "      <td>1263</td>\n",
       "      <td>2</td>\n",
       "      <td>1</td>\n",
       "      <td>386</td>\n",
       "      <td>388</td>\n",
       "      <td>396</td>\n",
       "      <td>423</td>\n",
       "      <td>15130</td>\n",
       "      <td>66</td>\n",
       "      <td>27</td>\n",
       "      <td>6</td>\n",
       "      <td>14</td>\n",
       "      <td>16</td>\n",
       "      <td>9.0</td>\n",
       "      <td>6.812500</td>\n",
       "      <td>R</td>\n",
       "      <td>4</td>\n",
       "      <td>E</td>\n",
       "      <td>28.0000</td>\n",
       "    </tr>\n",
       "    <tr>\n",
       "      <th>4</th>\n",
       "      <td>F</td>\n",
       "      <td>3.0</td>\n",
       "      <td>H</td>\n",
       "      <td>576</td>\n",
       "      <td>594</td>\n",
       "      <td>4</td>\n",
       "      <td>3</td>\n",
       "      <td>240</td>\n",
       "      <td>250</td>\n",
       "      <td>293</td>\n",
       "      <td>321</td>\n",
       "      <td>9836</td>\n",
       "      <td>113</td>\n",
       "      <td>43</td>\n",
       "      <td>10</td>\n",
       "      <td>25</td>\n",
       "      <td>37</td>\n",
       "      <td>14.0</td>\n",
       "      <td>6.864865</td>\n",
       "      <td>S</td>\n",
       "      <td>2</td>\n",
       "      <td>F</td>\n",
       "      <td>20.0000</td>\n",
       "    </tr>\n",
       "  </tbody>\n",
       "</table>\n",
       "</div>"
      ],
      "text/plain": [
       "  GENDER  INCOME HOMEOWNR   HV1   HV2  HV3  HV4   IC1   IC2   IC3   IC4  \\\n",
       "0      F     NaN    other   479   635    3    2   307   318   349   378   \n",
       "1      M     6.0        H  5468  5218   12   10  1088  1096  1026  1037   \n",
       "2      M     3.0        U   497   546    2    1   251   292   292   340   \n",
       "3      F     1.0        U  1000  1263    2    1   386   388   396   423   \n",
       "4      F     3.0        H   576   594    4    3   240   250   293   321   \n",
       "\n",
       "     IC5  NUMPROM  CARDPROM  CARDPM12  NUMPRM12  NGIFTALL  TIMELAG    AVGGIFT  \\\n",
       "0  12883       74        27         6        14        31      4.0   7.741935   \n",
       "1  36175       32        12         6        13         3     18.0  15.666667   \n",
       "2  11576       63        26         6        14        27     12.0   7.481481   \n",
       "3  15130       66        27         6        14        16      9.0   6.812500   \n",
       "4   9836      113        43        10        25        37     14.0   6.864865   \n",
       "\n",
       "  DOMAIN_letters RFA_frequency RFA_monetary     year  \n",
       "0              T             4            E  37.0000  \n",
       "1              S             2            G  52.0000  \n",
       "2              R             4            E  37.5708  \n",
       "3              R             4            E  28.0000  \n",
       "4              S             2            F  20.0000  "
      ]
     },
     "execution_count": 34,
     "metadata": {},
     "output_type": "execute_result"
    }
   ],
   "source": [
    "data.head()"
   ]
  },
  {
   "cell_type": "code",
   "execution_count": 35,
   "metadata": {},
   "outputs": [],
   "source": [
    "# sns.pairplot(data)"
   ]
  },
  {
   "cell_type": "code",
   "execution_count": 36,
   "metadata": {},
   "outputs": [],
   "source": [
    "data['INCOME'] = data['INCOME'].astype('object')"
   ]
  },
  {
   "cell_type": "code",
   "execution_count": 37,
   "metadata": {},
   "outputs": [
    {
     "data": {
      "text/plain": [
       "Float64Index([5.0, 2.0, 4.0, 1.0, 3.0, 6.0, 7.0], dtype='float64')"
      ]
     },
     "execution_count": 37,
     "metadata": {},
     "output_type": "execute_result"
    }
   ],
   "source": [
    "data['INCOME'].value_counts().index"
   ]
  },
  {
   "cell_type": "code",
   "execution_count": 38,
   "metadata": {},
   "outputs": [
    {
     "data": {
      "text/plain": [
       "19622"
      ]
     },
     "execution_count": 38,
     "metadata": {},
     "output_type": "execute_result"
    }
   ],
   "source": [
    "data['INCOME'].isna().sum()"
   ]
  },
  {
   "cell_type": "code",
   "execution_count": 39,
   "metadata": {},
   "outputs": [],
   "source": [
    "def clean_income(x):\n",
    "    if x in [5.0, 2.0, 4.0, 1.0, 3.0, 6.0, 7.0]:\n",
    "        return x\n",
    "    else:\n",
    "        return 'other'"
   ]
  },
  {
   "cell_type": "code",
   "execution_count": 40,
   "metadata": {},
   "outputs": [
    {
     "data": {
      "text/plain": [
       "other    19622\n",
       "5.0      14290\n",
       "2.0      12179\n",
       "4.0      11818\n",
       "1.0       8464\n",
       "3.0       7970\n",
       "6.0       7161\n",
       "7.0       6889\n",
       "Name: INCOME, dtype: int64"
      ]
     },
     "execution_count": 40,
     "metadata": {},
     "output_type": "execute_result"
    }
   ],
   "source": [
    "data['INCOME'] = list(map(clean_income, data['INCOME']))\n",
    "data['INCOME'].value_counts()"
   ]
  },
  {
   "cell_type": "code",
   "execution_count": 41,
   "metadata": {},
   "outputs": [],
   "source": [
    "data['RFA_frequency'] = data['RFA_frequency'].astype('object')"
   ]
  },
  {
   "cell_type": "code",
   "execution_count": 42,
   "metadata": {},
   "outputs": [],
   "source": [
    "data['year'] = data['year'].astype('object')"
   ]
  },
  {
   "cell_type": "code",
   "execution_count": 43,
   "metadata": {},
   "outputs": [
    {
     "data": {
      "text/html": [
       "<div>\n",
       "<style scoped>\n",
       "    .dataframe tbody tr th:only-of-type {\n",
       "        vertical-align: middle;\n",
       "    }\n",
       "\n",
       "    .dataframe tbody tr th {\n",
       "        vertical-align: top;\n",
       "    }\n",
       "\n",
       "    .dataframe thead th {\n",
       "        text-align: right;\n",
       "    }\n",
       "</style>\n",
       "<table border=\"1\" class=\"dataframe\">\n",
       "  <thead>\n",
       "    <tr style=\"text-align: right;\">\n",
       "      <th></th>\n",
       "      <th>GENDER</th>\n",
       "      <th>INCOME</th>\n",
       "      <th>HOMEOWNR</th>\n",
       "      <th>HV1</th>\n",
       "      <th>HV2</th>\n",
       "      <th>HV3</th>\n",
       "      <th>HV4</th>\n",
       "      <th>IC1</th>\n",
       "      <th>IC2</th>\n",
       "      <th>IC3</th>\n",
       "      <th>IC4</th>\n",
       "      <th>IC5</th>\n",
       "      <th>NUMPROM</th>\n",
       "      <th>CARDPROM</th>\n",
       "      <th>CARDPM12</th>\n",
       "      <th>NUMPRM12</th>\n",
       "      <th>NGIFTALL</th>\n",
       "      <th>TIMELAG</th>\n",
       "      <th>AVGGIFT</th>\n",
       "      <th>DOMAIN_letters</th>\n",
       "      <th>RFA_frequency</th>\n",
       "      <th>RFA_monetary</th>\n",
       "      <th>year</th>\n",
       "    </tr>\n",
       "  </thead>\n",
       "  <tbody>\n",
       "    <tr>\n",
       "      <th>0</th>\n",
       "      <td>F</td>\n",
       "      <td>other</td>\n",
       "      <td>other</td>\n",
       "      <td>479</td>\n",
       "      <td>635</td>\n",
       "      <td>3</td>\n",
       "      <td>2</td>\n",
       "      <td>307</td>\n",
       "      <td>318</td>\n",
       "      <td>349</td>\n",
       "      <td>378</td>\n",
       "      <td>12883</td>\n",
       "      <td>74</td>\n",
       "      <td>27</td>\n",
       "      <td>6</td>\n",
       "      <td>14</td>\n",
       "      <td>31</td>\n",
       "      <td>4.0</td>\n",
       "      <td>7.741935</td>\n",
       "      <td>T</td>\n",
       "      <td>4</td>\n",
       "      <td>E</td>\n",
       "      <td>37.0000</td>\n",
       "    </tr>\n",
       "    <tr>\n",
       "      <th>1</th>\n",
       "      <td>M</td>\n",
       "      <td>6.0</td>\n",
       "      <td>H</td>\n",
       "      <td>5468</td>\n",
       "      <td>5218</td>\n",
       "      <td>12</td>\n",
       "      <td>10</td>\n",
       "      <td>1088</td>\n",
       "      <td>1096</td>\n",
       "      <td>1026</td>\n",
       "      <td>1037</td>\n",
       "      <td>36175</td>\n",
       "      <td>32</td>\n",
       "      <td>12</td>\n",
       "      <td>6</td>\n",
       "      <td>13</td>\n",
       "      <td>3</td>\n",
       "      <td>18.0</td>\n",
       "      <td>15.666667</td>\n",
       "      <td>S</td>\n",
       "      <td>2</td>\n",
       "      <td>G</td>\n",
       "      <td>52.0000</td>\n",
       "    </tr>\n",
       "    <tr>\n",
       "      <th>2</th>\n",
       "      <td>M</td>\n",
       "      <td>3.0</td>\n",
       "      <td>U</td>\n",
       "      <td>497</td>\n",
       "      <td>546</td>\n",
       "      <td>2</td>\n",
       "      <td>1</td>\n",
       "      <td>251</td>\n",
       "      <td>292</td>\n",
       "      <td>292</td>\n",
       "      <td>340</td>\n",
       "      <td>11576</td>\n",
       "      <td>63</td>\n",
       "      <td>26</td>\n",
       "      <td>6</td>\n",
       "      <td>14</td>\n",
       "      <td>27</td>\n",
       "      <td>12.0</td>\n",
       "      <td>7.481481</td>\n",
       "      <td>R</td>\n",
       "      <td>4</td>\n",
       "      <td>E</td>\n",
       "      <td>37.5708</td>\n",
       "    </tr>\n",
       "    <tr>\n",
       "      <th>3</th>\n",
       "      <td>F</td>\n",
       "      <td>1.0</td>\n",
       "      <td>U</td>\n",
       "      <td>1000</td>\n",
       "      <td>1263</td>\n",
       "      <td>2</td>\n",
       "      <td>1</td>\n",
       "      <td>386</td>\n",
       "      <td>388</td>\n",
       "      <td>396</td>\n",
       "      <td>423</td>\n",
       "      <td>15130</td>\n",
       "      <td>66</td>\n",
       "      <td>27</td>\n",
       "      <td>6</td>\n",
       "      <td>14</td>\n",
       "      <td>16</td>\n",
       "      <td>9.0</td>\n",
       "      <td>6.812500</td>\n",
       "      <td>R</td>\n",
       "      <td>4</td>\n",
       "      <td>E</td>\n",
       "      <td>28.0000</td>\n",
       "    </tr>\n",
       "    <tr>\n",
       "      <th>4</th>\n",
       "      <td>F</td>\n",
       "      <td>3.0</td>\n",
       "      <td>H</td>\n",
       "      <td>576</td>\n",
       "      <td>594</td>\n",
       "      <td>4</td>\n",
       "      <td>3</td>\n",
       "      <td>240</td>\n",
       "      <td>250</td>\n",
       "      <td>293</td>\n",
       "      <td>321</td>\n",
       "      <td>9836</td>\n",
       "      <td>113</td>\n",
       "      <td>43</td>\n",
       "      <td>10</td>\n",
       "      <td>25</td>\n",
       "      <td>37</td>\n",
       "      <td>14.0</td>\n",
       "      <td>6.864865</td>\n",
       "      <td>S</td>\n",
       "      <td>2</td>\n",
       "      <td>F</td>\n",
       "      <td>20.0000</td>\n",
       "    </tr>\n",
       "  </tbody>\n",
       "</table>\n",
       "</div>"
      ],
      "text/plain": [
       "  GENDER INCOME HOMEOWNR   HV1   HV2  HV3  HV4   IC1   IC2   IC3   IC4    IC5  \\\n",
       "0      F  other    other   479   635    3    2   307   318   349   378  12883   \n",
       "1      M    6.0        H  5468  5218   12   10  1088  1096  1026  1037  36175   \n",
       "2      M    3.0        U   497   546    2    1   251   292   292   340  11576   \n",
       "3      F    1.0        U  1000  1263    2    1   386   388   396   423  15130   \n",
       "4      F    3.0        H   576   594    4    3   240   250   293   321   9836   \n",
       "\n",
       "   NUMPROM  CARDPROM  CARDPM12  NUMPRM12  NGIFTALL  TIMELAG    AVGGIFT  \\\n",
       "0       74        27         6        14        31      4.0   7.741935   \n",
       "1       32        12         6        13         3     18.0  15.666667   \n",
       "2       63        26         6        14        27     12.0   7.481481   \n",
       "3       66        27         6        14        16      9.0   6.812500   \n",
       "4      113        43        10        25        37     14.0   6.864865   \n",
       "\n",
       "  DOMAIN_letters RFA_frequency RFA_monetary     year  \n",
       "0              T             4            E  37.0000  \n",
       "1              S             2            G  52.0000  \n",
       "2              R             4            E  37.5708  \n",
       "3              R             4            E  28.0000  \n",
       "4              S             2            F  20.0000  "
      ]
     },
     "execution_count": 43,
     "metadata": {},
     "output_type": "execute_result"
    }
   ],
   "source": [
    "data.head()"
   ]
  },
  {
   "cell_type": "code",
   "execution_count": 44,
   "metadata": {},
   "outputs": [
    {
     "data": {
      "text/plain": [
       "6     47068\n",
       "5     17441\n",
       "4     15648\n",
       "3      3562\n",
       "2      1320\n",
       "7      1246\n",
       "8       757\n",
       "11      388\n",
       "9       378\n",
       "10      251\n",
       "1       247\n",
       "12       35\n",
       "0        19\n",
       "13       17\n",
       "14        5\n",
       "16        4\n",
       "17        4\n",
       "15        2\n",
       "19        1\n",
       "Name: CARDPM12, dtype: int64"
      ]
     },
     "execution_count": 44,
     "metadata": {},
     "output_type": "execute_result"
    }
   ],
   "source": [
    "data['HV4'].value_counts()\n",
    "data['CARDPM12'].value_counts()"
   ]
  },
  {
   "cell_type": "code",
   "execution_count": 45,
   "metadata": {},
   "outputs": [],
   "source": [
    "# data['NGIFTALL'].value_counts()\n",
    "data['year'] = data['year'].astype('float')"
   ]
  },
  {
   "cell_type": "code",
   "execution_count": 46,
   "metadata": {},
   "outputs": [],
   "source": [
    "data['HV4'] = data['HV4'].astype('object')\n",
    "data['HV3'] = data['HV3'].astype('object')\n",
    "data['CARDPM12'] = data['CARDPM12'].astype('object')"
   ]
  },
  {
   "cell_type": "code",
   "execution_count": 47,
   "metadata": {},
   "outputs": [
    {
     "data": {
      "text/html": [
       "<div>\n",
       "<style scoped>\n",
       "    .dataframe tbody tr th:only-of-type {\n",
       "        vertical-align: middle;\n",
       "    }\n",
       "\n",
       "    .dataframe tbody tr th {\n",
       "        vertical-align: top;\n",
       "    }\n",
       "\n",
       "    .dataframe thead th {\n",
       "        text-align: right;\n",
       "    }\n",
       "</style>\n",
       "<table border=\"1\" class=\"dataframe\">\n",
       "  <thead>\n",
       "    <tr style=\"text-align: right;\">\n",
       "      <th></th>\n",
       "      <th>GENDER</th>\n",
       "      <th>INCOME</th>\n",
       "      <th>HOMEOWNR</th>\n",
       "      <th>HV3</th>\n",
       "      <th>HV4</th>\n",
       "      <th>CARDPM12</th>\n",
       "      <th>DOMAIN_letters</th>\n",
       "      <th>RFA_frequency</th>\n",
       "      <th>RFA_monetary</th>\n",
       "    </tr>\n",
       "  </thead>\n",
       "  <tbody>\n",
       "    <tr>\n",
       "      <th>0</th>\n",
       "      <td>F</td>\n",
       "      <td>other</td>\n",
       "      <td>other</td>\n",
       "      <td>3</td>\n",
       "      <td>2</td>\n",
       "      <td>6</td>\n",
       "      <td>T</td>\n",
       "      <td>4</td>\n",
       "      <td>E</td>\n",
       "    </tr>\n",
       "    <tr>\n",
       "      <th>1</th>\n",
       "      <td>M</td>\n",
       "      <td>6.0</td>\n",
       "      <td>H</td>\n",
       "      <td>12</td>\n",
       "      <td>10</td>\n",
       "      <td>6</td>\n",
       "      <td>S</td>\n",
       "      <td>2</td>\n",
       "      <td>G</td>\n",
       "    </tr>\n",
       "    <tr>\n",
       "      <th>2</th>\n",
       "      <td>M</td>\n",
       "      <td>3.0</td>\n",
       "      <td>U</td>\n",
       "      <td>2</td>\n",
       "      <td>1</td>\n",
       "      <td>6</td>\n",
       "      <td>R</td>\n",
       "      <td>4</td>\n",
       "      <td>E</td>\n",
       "    </tr>\n",
       "    <tr>\n",
       "      <th>3</th>\n",
       "      <td>F</td>\n",
       "      <td>1.0</td>\n",
       "      <td>U</td>\n",
       "      <td>2</td>\n",
       "      <td>1</td>\n",
       "      <td>6</td>\n",
       "      <td>R</td>\n",
       "      <td>4</td>\n",
       "      <td>E</td>\n",
       "    </tr>\n",
       "    <tr>\n",
       "      <th>4</th>\n",
       "      <td>F</td>\n",
       "      <td>3.0</td>\n",
       "      <td>H</td>\n",
       "      <td>4</td>\n",
       "      <td>3</td>\n",
       "      <td>10</td>\n",
       "      <td>S</td>\n",
       "      <td>2</td>\n",
       "      <td>F</td>\n",
       "    </tr>\n",
       "  </tbody>\n",
       "</table>\n",
       "</div>"
      ],
      "text/plain": [
       "  GENDER INCOME HOMEOWNR HV3 HV4 CARDPM12 DOMAIN_letters RFA_frequency  \\\n",
       "0      F  other    other   3   2        6              T             4   \n",
       "1      M    6.0        H  12  10        6              S             2   \n",
       "2      M    3.0        U   2   1        6              R             4   \n",
       "3      F    1.0        U   2   1        6              R             4   \n",
       "4      F    3.0        H   4   3       10              S             2   \n",
       "\n",
       "  RFA_monetary  \n",
       "0            E  \n",
       "1            G  \n",
       "2            E  \n",
       "3            E  \n",
       "4            F  "
      ]
     },
     "execution_count": 47,
     "metadata": {},
     "output_type": "execute_result"
    }
   ],
   "source": [
    "categoricals = data.select_dtypes(np.object)\n",
    "categoricals.head()"
   ]
  },
  {
   "cell_type": "code",
   "execution_count": 64,
   "metadata": {},
   "outputs": [
    {
     "data": {
      "text/html": [
       "<div>\n",
       "<style scoped>\n",
       "    .dataframe tbody tr th:only-of-type {\n",
       "        vertical-align: middle;\n",
       "    }\n",
       "\n",
       "    .dataframe tbody tr th {\n",
       "        vertical-align: top;\n",
       "    }\n",
       "\n",
       "    .dataframe thead th {\n",
       "        text-align: right;\n",
       "    }\n",
       "</style>\n",
       "<table border=\"1\" class=\"dataframe\">\n",
       "  <thead>\n",
       "    <tr style=\"text-align: right;\">\n",
       "      <th></th>\n",
       "      <th>HV1</th>\n",
       "      <th>HV2</th>\n",
       "      <th>IC1</th>\n",
       "      <th>IC2</th>\n",
       "      <th>IC3</th>\n",
       "      <th>IC4</th>\n",
       "      <th>IC5</th>\n",
       "      <th>NUMPROM</th>\n",
       "      <th>CARDPROM</th>\n",
       "      <th>NUMPRM12</th>\n",
       "      <th>NGIFTALL</th>\n",
       "      <th>TIMELAG</th>\n",
       "      <th>AVGGIFT</th>\n",
       "      <th>year</th>\n",
       "    </tr>\n",
       "  </thead>\n",
       "  <tbody>\n",
       "    <tr>\n",
       "      <th>0</th>\n",
       "      <td>479</td>\n",
       "      <td>635</td>\n",
       "      <td>307</td>\n",
       "      <td>318</td>\n",
       "      <td>349</td>\n",
       "      <td>378</td>\n",
       "      <td>12883</td>\n",
       "      <td>74</td>\n",
       "      <td>27</td>\n",
       "      <td>14</td>\n",
       "      <td>31</td>\n",
       "      <td>4.0</td>\n",
       "      <td>7.741935</td>\n",
       "      <td>37.0000</td>\n",
       "    </tr>\n",
       "    <tr>\n",
       "      <th>1</th>\n",
       "      <td>5468</td>\n",
       "      <td>5218</td>\n",
       "      <td>1088</td>\n",
       "      <td>1096</td>\n",
       "      <td>1026</td>\n",
       "      <td>1037</td>\n",
       "      <td>36175</td>\n",
       "      <td>32</td>\n",
       "      <td>12</td>\n",
       "      <td>13</td>\n",
       "      <td>3</td>\n",
       "      <td>18.0</td>\n",
       "      <td>15.666667</td>\n",
       "      <td>52.0000</td>\n",
       "    </tr>\n",
       "    <tr>\n",
       "      <th>2</th>\n",
       "      <td>497</td>\n",
       "      <td>546</td>\n",
       "      <td>251</td>\n",
       "      <td>292</td>\n",
       "      <td>292</td>\n",
       "      <td>340</td>\n",
       "      <td>11576</td>\n",
       "      <td>63</td>\n",
       "      <td>26</td>\n",
       "      <td>14</td>\n",
       "      <td>27</td>\n",
       "      <td>12.0</td>\n",
       "      <td>7.481481</td>\n",
       "      <td>37.5708</td>\n",
       "    </tr>\n",
       "    <tr>\n",
       "      <th>3</th>\n",
       "      <td>1000</td>\n",
       "      <td>1263</td>\n",
       "      <td>386</td>\n",
       "      <td>388</td>\n",
       "      <td>396</td>\n",
       "      <td>423</td>\n",
       "      <td>15130</td>\n",
       "      <td>66</td>\n",
       "      <td>27</td>\n",
       "      <td>14</td>\n",
       "      <td>16</td>\n",
       "      <td>9.0</td>\n",
       "      <td>6.812500</td>\n",
       "      <td>28.0000</td>\n",
       "    </tr>\n",
       "    <tr>\n",
       "      <th>4</th>\n",
       "      <td>576</td>\n",
       "      <td>594</td>\n",
       "      <td>240</td>\n",
       "      <td>250</td>\n",
       "      <td>293</td>\n",
       "      <td>321</td>\n",
       "      <td>9836</td>\n",
       "      <td>113</td>\n",
       "      <td>43</td>\n",
       "      <td>25</td>\n",
       "      <td>37</td>\n",
       "      <td>14.0</td>\n",
       "      <td>6.864865</td>\n",
       "      <td>20.0000</td>\n",
       "    </tr>\n",
       "  </tbody>\n",
       "</table>\n",
       "</div>"
      ],
      "text/plain": [
       "    HV1   HV2   IC1   IC2   IC3   IC4    IC5  NUMPROM  CARDPROM  NUMPRM12  \\\n",
       "0   479   635   307   318   349   378  12883       74        27        14   \n",
       "1  5468  5218  1088  1096  1026  1037  36175       32        12        13   \n",
       "2   497   546   251   292   292   340  11576       63        26        14   \n",
       "3  1000  1263   386   388   396   423  15130       66        27        14   \n",
       "4   576   594   240   250   293   321   9836      113        43        25   \n",
       "\n",
       "   NGIFTALL  TIMELAG    AVGGIFT     year  \n",
       "0        31      4.0   7.741935  37.0000  \n",
       "1         3     18.0  15.666667  52.0000  \n",
       "2        27     12.0   7.481481  37.5708  \n",
       "3        16      9.0   6.812500  28.0000  \n",
       "4        37     14.0   6.864865  20.0000  "
      ]
     },
     "execution_count": 64,
     "metadata": {},
     "output_type": "execute_result"
    }
   ],
   "source": [
    "numericals = data.select_dtypes(np.number)\n",
    "numericals.head()"
   ]
  },
  {
   "cell_type": "code",
   "execution_count": 65,
   "metadata": {},
   "outputs": [],
   "source": [
    "numericals['TIMELAG'] = numericals['TIMELAG'].fillna(np.mean(numericals['TIMELAG']))"
   ]
  },
  {
   "cell_type": "code",
   "execution_count": 299,
   "metadata": {},
   "outputs": [],
   "source": [
    "y = numericals['AVGGIFT']\n",
    "numericals = numericals.drop(['AVGGIFT'], axis=1)"
   ]
  },
  {
   "cell_type": "code",
   "execution_count": 300,
   "metadata": {},
   "outputs": [
    {
     "ename": "ModuleNotFoundError",
     "evalue": "No module named 'statsmodels'",
     "output_type": "error",
     "traceback": [
      "\u001b[1;31m---------------------------------------------------------------------------\u001b[0m",
      "\u001b[1;31mModuleNotFoundError\u001b[0m                       Traceback (most recent call last)",
      "\u001b[1;32m<ipython-input-300-0eda22ab5445>\u001b[0m in \u001b[0;36m<module>\u001b[1;34m\u001b[0m\n\u001b[1;32m----> 1\u001b[1;33m \u001b[1;32mfrom\u001b[0m \u001b[0mstatsmodels\u001b[0m\u001b[1;33m.\u001b[0m\u001b[0mstats\u001b[0m\u001b[1;33m.\u001b[0m\u001b[0moutliers_influence\u001b[0m \u001b[1;32mimport\u001b[0m \u001b[0mvariance_inflation_factor\u001b[0m\u001b[1;33m\u001b[0m\u001b[1;33m\u001b[0m\u001b[0m\n\u001b[0m\u001b[0;32m      2\u001b[0m \u001b[0mflag\u001b[0m \u001b[1;33m=\u001b[0m \u001b[1;32mTrue\u001b[0m\u001b[1;33m\u001b[0m\u001b[1;33m\u001b[0m\u001b[0m\n\u001b[0;32m      3\u001b[0m \u001b[0mthreshold\u001b[0m \u001b[1;33m=\u001b[0m \u001b[1;36m50\u001b[0m\u001b[1;33m\u001b[0m\u001b[1;33m\u001b[0m\u001b[0m\n\u001b[0;32m      4\u001b[0m \u001b[1;32mwhile\u001b[0m \u001b[0mflag\u001b[0m \u001b[1;32mis\u001b[0m \u001b[1;32mTrue\u001b[0m\u001b[1;33m:\u001b[0m\u001b[1;33m\u001b[0m\u001b[1;33m\u001b[0m\u001b[0m\n\u001b[0;32m      5\u001b[0m     \u001b[0mflag\u001b[0m \u001b[1;33m=\u001b[0m \u001b[1;32mFalse\u001b[0m\u001b[1;33m\u001b[0m\u001b[1;33m\u001b[0m\u001b[0m\n",
      "\u001b[1;31mModuleNotFoundError\u001b[0m: No module named 'statsmodels'"
     ]
    }
   ],
   "source": [
    "from statsmodels.stats.outliers_influence import variance_inflation_factor\n",
    "flag = True\n",
    "threshold = 50\n",
    "while flag is True:\n",
    "    flag = False\n",
    "    values = [variance_inflation_factor(np.array(numericals), i) for i in np.arange(numericals.shape[1])]\n",
    "    if max(values)> threshold:\n",
    "        col_index = values.index(max(values))\n",
    "        column_name = numericals.columns[col_index]\n",
    "        numericals = numericals.drop([column_name], axis=1)\n",
    "        flag = True"
   ]
  },
  {
   "cell_type": "code",
   "execution_count": 301,
   "metadata": {},
   "outputs": [
    {
     "data": {
      "text/html": [
       "<div>\n",
       "<style scoped>\n",
       "    .dataframe tbody tr th:only-of-type {\n",
       "        vertical-align: middle;\n",
       "    }\n",
       "\n",
       "    .dataframe tbody tr th {\n",
       "        vertical-align: top;\n",
       "    }\n",
       "\n",
       "    .dataframe thead th {\n",
       "        text-align: right;\n",
       "    }\n",
       "</style>\n",
       "<table border=\"1\" class=\"dataframe\">\n",
       "  <thead>\n",
       "    <tr style=\"text-align: right;\">\n",
       "      <th></th>\n",
       "      <th>HV1</th>\n",
       "      <th>IC1</th>\n",
       "      <th>IC5</th>\n",
       "      <th>CARDPROM</th>\n",
       "      <th>NUMPRM12</th>\n",
       "      <th>NGIFTALL</th>\n",
       "      <th>TIMELAG</th>\n",
       "      <th>year</th>\n",
       "      <th>RFA_frequency</th>\n",
       "    </tr>\n",
       "  </thead>\n",
       "  <tbody>\n",
       "    <tr>\n",
       "      <th>0</th>\n",
       "      <td>479</td>\n",
       "      <td>307</td>\n",
       "      <td>12883</td>\n",
       "      <td>27</td>\n",
       "      <td>14</td>\n",
       "      <td>31</td>\n",
       "      <td>4.0</td>\n",
       "      <td>37.000000</td>\n",
       "      <td>4</td>\n",
       "    </tr>\n",
       "    <tr>\n",
       "      <th>1</th>\n",
       "      <td>5468</td>\n",
       "      <td>1088</td>\n",
       "      <td>36175</td>\n",
       "      <td>12</td>\n",
       "      <td>13</td>\n",
       "      <td>3</td>\n",
       "      <td>18.0</td>\n",
       "      <td>52.000000</td>\n",
       "      <td>2</td>\n",
       "    </tr>\n",
       "    <tr>\n",
       "      <th>2</th>\n",
       "      <td>497</td>\n",
       "      <td>251</td>\n",
       "      <td>11576</td>\n",
       "      <td>26</td>\n",
       "      <td>14</td>\n",
       "      <td>27</td>\n",
       "      <td>12.0</td>\n",
       "      <td>37.570799</td>\n",
       "      <td>4</td>\n",
       "    </tr>\n",
       "    <tr>\n",
       "      <th>3</th>\n",
       "      <td>1000</td>\n",
       "      <td>386</td>\n",
       "      <td>15130</td>\n",
       "      <td>27</td>\n",
       "      <td>14</td>\n",
       "      <td>16</td>\n",
       "      <td>9.0</td>\n",
       "      <td>28.000000</td>\n",
       "      <td>4</td>\n",
       "    </tr>\n",
       "    <tr>\n",
       "      <th>4</th>\n",
       "      <td>576</td>\n",
       "      <td>240</td>\n",
       "      <td>9836</td>\n",
       "      <td>43</td>\n",
       "      <td>25</td>\n",
       "      <td>37</td>\n",
       "      <td>14.0</td>\n",
       "      <td>20.000000</td>\n",
       "      <td>2</td>\n",
       "    </tr>\n",
       "  </tbody>\n",
       "</table>\n",
       "</div>"
      ],
      "text/plain": [
       "    HV1   IC1    IC5  CARDPROM  NUMPRM12  NGIFTALL  TIMELAG       year  \\\n",
       "0   479   307  12883        27        14        31      4.0  37.000000   \n",
       "1  5468  1088  36175        12        13         3     18.0  52.000000   \n",
       "2   497   251  11576        26        14        27     12.0  37.570799   \n",
       "3  1000   386  15130        27        14        16      9.0  28.000000   \n",
       "4   576   240   9836        43        25        37     14.0  20.000000   \n",
       "\n",
       "   RFA_frequency  \n",
       "0              4  \n",
       "1              2  \n",
       "2              4  \n",
       "3              4  \n",
       "4              2  "
      ]
     },
     "execution_count": 301,
     "metadata": {},
     "output_type": "execute_result"
    }
   ],
   "source": [
    "numericals.head()"
   ]
  },
  {
   "cell_type": "code",
   "execution_count": 302,
   "metadata": {},
   "outputs": [],
   "source": [
    "from sklearn.preprocessing import StandardScaler\n",
    "transformer = StandardScaler().fit(numericals)\n",
    "x_standardized = transformer.transform(numericals)"
   ]
  },
  {
   "cell_type": "code",
   "execution_count": 303,
   "metadata": {},
   "outputs": [
    {
     "data": {
      "text/html": [
       "<div>\n",
       "<style scoped>\n",
       "    .dataframe tbody tr th:only-of-type {\n",
       "        vertical-align: middle;\n",
       "    }\n",
       "\n",
       "    .dataframe tbody tr th {\n",
       "        vertical-align: top;\n",
       "    }\n",
       "\n",
       "    .dataframe thead th {\n",
       "        text-align: right;\n",
       "    }\n",
       "</style>\n",
       "<table border=\"1\" class=\"dataframe\">\n",
       "  <thead>\n",
       "    <tr style=\"text-align: right;\">\n",
       "      <th></th>\n",
       "      <th>GENDER</th>\n",
       "      <th>HOMEOWNR</th>\n",
       "      <th>RFA_monetary</th>\n",
       "    </tr>\n",
       "  </thead>\n",
       "  <tbody>\n",
       "    <tr>\n",
       "      <th>0</th>\n",
       "      <td>F</td>\n",
       "      <td>other</td>\n",
       "      <td>E</td>\n",
       "    </tr>\n",
       "    <tr>\n",
       "      <th>1</th>\n",
       "      <td>M</td>\n",
       "      <td>H</td>\n",
       "      <td>G</td>\n",
       "    </tr>\n",
       "    <tr>\n",
       "      <th>2</th>\n",
       "      <td>M</td>\n",
       "      <td>U</td>\n",
       "      <td>E</td>\n",
       "    </tr>\n",
       "    <tr>\n",
       "      <th>3</th>\n",
       "      <td>F</td>\n",
       "      <td>U</td>\n",
       "      <td>E</td>\n",
       "    </tr>\n",
       "    <tr>\n",
       "      <th>4</th>\n",
       "      <td>F</td>\n",
       "      <td>H</td>\n",
       "      <td>F</td>\n",
       "    </tr>\n",
       "  </tbody>\n",
       "</table>\n",
       "</div>"
      ],
      "text/plain": [
       "  GENDER HOMEOWNR RFA_monetary\n",
       "0      F    other            E\n",
       "1      M        H            G\n",
       "2      M        U            E\n",
       "3      F        U            E\n",
       "4      F        H            F"
      ]
     },
     "execution_count": 303,
     "metadata": {},
     "output_type": "execute_result"
    }
   ],
   "source": [
    "categoricals.head()"
   ]
  },
  {
   "cell_type": "code",
   "execution_count": 304,
   "metadata": {},
   "outputs": [
    {
     "ename": "KeyError",
     "evalue": "'HV3'",
     "output_type": "error",
     "traceback": [
      "\u001b[1;31m---------------------------------------------------------------------------\u001b[0m",
      "\u001b[1;31mKeyError\u001b[0m                                  Traceback (most recent call last)",
      "\u001b[1;32mc:\\python\\python391\\lib\\site-packages\\pandas\\core\\indexes\\base.py\u001b[0m in \u001b[0;36mget_loc\u001b[1;34m(self, key, method, tolerance)\u001b[0m\n\u001b[0;32m   3079\u001b[0m             \u001b[1;32mtry\u001b[0m\u001b[1;33m:\u001b[0m\u001b[1;33m\u001b[0m\u001b[1;33m\u001b[0m\u001b[0m\n\u001b[1;32m-> 3080\u001b[1;33m                 \u001b[1;32mreturn\u001b[0m \u001b[0mself\u001b[0m\u001b[1;33m.\u001b[0m\u001b[0m_engine\u001b[0m\u001b[1;33m.\u001b[0m\u001b[0mget_loc\u001b[0m\u001b[1;33m(\u001b[0m\u001b[0mcasted_key\u001b[0m\u001b[1;33m)\u001b[0m\u001b[1;33m\u001b[0m\u001b[1;33m\u001b[0m\u001b[0m\n\u001b[0m\u001b[0;32m   3081\u001b[0m             \u001b[1;32mexcept\u001b[0m \u001b[0mKeyError\u001b[0m \u001b[1;32mas\u001b[0m \u001b[0merr\u001b[0m\u001b[1;33m:\u001b[0m\u001b[1;33m\u001b[0m\u001b[1;33m\u001b[0m\u001b[0m\n",
      "\u001b[1;32mpandas\\_libs\\index.pyx\u001b[0m in \u001b[0;36mpandas._libs.index.IndexEngine.get_loc\u001b[1;34m()\u001b[0m\n",
      "\u001b[1;32mpandas\\_libs\\index.pyx\u001b[0m in \u001b[0;36mpandas._libs.index.IndexEngine.get_loc\u001b[1;34m()\u001b[0m\n",
      "\u001b[1;32mpandas\\_libs\\hashtable_class_helper.pxi\u001b[0m in \u001b[0;36mpandas._libs.hashtable.PyObjectHashTable.get_item\u001b[1;34m()\u001b[0m\n",
      "\u001b[1;32mpandas\\_libs\\hashtable_class_helper.pxi\u001b[0m in \u001b[0;36mpandas._libs.hashtable.PyObjectHashTable.get_item\u001b[1;34m()\u001b[0m\n",
      "\u001b[1;31mKeyError\u001b[0m: 'HV3'",
      "\nThe above exception was the direct cause of the following exception:\n",
      "\u001b[1;31mKeyError\u001b[0m                                  Traceback (most recent call last)",
      "\u001b[1;32m<ipython-input-304-19026d8e5801>\u001b[0m in \u001b[0;36m<module>\u001b[1;34m\u001b[0m\n\u001b[1;32m----> 1\u001b[1;33m \u001b[0mcategoricals\u001b[0m\u001b[1;33m[\u001b[0m\u001b[1;34m'HV3'\u001b[0m\u001b[1;33m]\u001b[0m\u001b[1;33m.\u001b[0m\u001b[0mvalue_counts\u001b[0m\u001b[1;33m(\u001b[0m\u001b[1;33m)\u001b[0m\u001b[1;33m\u001b[0m\u001b[1;33m\u001b[0m\u001b[0m\n\u001b[0m",
      "\u001b[1;32mc:\\python\\python391\\lib\\site-packages\\pandas\\core\\frame.py\u001b[0m in \u001b[0;36m__getitem__\u001b[1;34m(self, key)\u001b[0m\n\u001b[0;32m   3022\u001b[0m             \u001b[1;32mif\u001b[0m \u001b[0mself\u001b[0m\u001b[1;33m.\u001b[0m\u001b[0mcolumns\u001b[0m\u001b[1;33m.\u001b[0m\u001b[0mnlevels\u001b[0m \u001b[1;33m>\u001b[0m \u001b[1;36m1\u001b[0m\u001b[1;33m:\u001b[0m\u001b[1;33m\u001b[0m\u001b[1;33m\u001b[0m\u001b[0m\n\u001b[0;32m   3023\u001b[0m                 \u001b[1;32mreturn\u001b[0m \u001b[0mself\u001b[0m\u001b[1;33m.\u001b[0m\u001b[0m_getitem_multilevel\u001b[0m\u001b[1;33m(\u001b[0m\u001b[0mkey\u001b[0m\u001b[1;33m)\u001b[0m\u001b[1;33m\u001b[0m\u001b[1;33m\u001b[0m\u001b[0m\n\u001b[1;32m-> 3024\u001b[1;33m             \u001b[0mindexer\u001b[0m \u001b[1;33m=\u001b[0m \u001b[0mself\u001b[0m\u001b[1;33m.\u001b[0m\u001b[0mcolumns\u001b[0m\u001b[1;33m.\u001b[0m\u001b[0mget_loc\u001b[0m\u001b[1;33m(\u001b[0m\u001b[0mkey\u001b[0m\u001b[1;33m)\u001b[0m\u001b[1;33m\u001b[0m\u001b[1;33m\u001b[0m\u001b[0m\n\u001b[0m\u001b[0;32m   3025\u001b[0m             \u001b[1;32mif\u001b[0m \u001b[0mis_integer\u001b[0m\u001b[1;33m(\u001b[0m\u001b[0mindexer\u001b[0m\u001b[1;33m)\u001b[0m\u001b[1;33m:\u001b[0m\u001b[1;33m\u001b[0m\u001b[1;33m\u001b[0m\u001b[0m\n\u001b[0;32m   3026\u001b[0m                 \u001b[0mindexer\u001b[0m \u001b[1;33m=\u001b[0m \u001b[1;33m[\u001b[0m\u001b[0mindexer\u001b[0m\u001b[1;33m]\u001b[0m\u001b[1;33m\u001b[0m\u001b[1;33m\u001b[0m\u001b[0m\n",
      "\u001b[1;32mc:\\python\\python391\\lib\\site-packages\\pandas\\core\\indexes\\base.py\u001b[0m in \u001b[0;36mget_loc\u001b[1;34m(self, key, method, tolerance)\u001b[0m\n\u001b[0;32m   3080\u001b[0m                 \u001b[1;32mreturn\u001b[0m \u001b[0mself\u001b[0m\u001b[1;33m.\u001b[0m\u001b[0m_engine\u001b[0m\u001b[1;33m.\u001b[0m\u001b[0mget_loc\u001b[0m\u001b[1;33m(\u001b[0m\u001b[0mcasted_key\u001b[0m\u001b[1;33m)\u001b[0m\u001b[1;33m\u001b[0m\u001b[1;33m\u001b[0m\u001b[0m\n\u001b[0;32m   3081\u001b[0m             \u001b[1;32mexcept\u001b[0m \u001b[0mKeyError\u001b[0m \u001b[1;32mas\u001b[0m \u001b[0merr\u001b[0m\u001b[1;33m:\u001b[0m\u001b[1;33m\u001b[0m\u001b[1;33m\u001b[0m\u001b[0m\n\u001b[1;32m-> 3082\u001b[1;33m                 \u001b[1;32mraise\u001b[0m \u001b[0mKeyError\u001b[0m\u001b[1;33m(\u001b[0m\u001b[0mkey\u001b[0m\u001b[1;33m)\u001b[0m \u001b[1;32mfrom\u001b[0m \u001b[0merr\u001b[0m\u001b[1;33m\u001b[0m\u001b[1;33m\u001b[0m\u001b[0m\n\u001b[0m\u001b[0;32m   3083\u001b[0m \u001b[1;33m\u001b[0m\u001b[0m\n\u001b[0;32m   3084\u001b[0m         \u001b[1;32mif\u001b[0m \u001b[0mtolerance\u001b[0m \u001b[1;32mis\u001b[0m \u001b[1;32mnot\u001b[0m \u001b[1;32mNone\u001b[0m\u001b[1;33m:\u001b[0m\u001b[1;33m\u001b[0m\u001b[1;33m\u001b[0m\u001b[0m\n",
      "\u001b[1;31mKeyError\u001b[0m: 'HV3'"
     ]
    }
   ],
   "source": [
    "categoricals['HV3'].value_counts()"
   ]
  },
  {
   "cell_type": "code",
   "execution_count": 305,
   "metadata": {},
   "outputs": [
    {
     "ename": "KeyError",
     "evalue": "\"['HV3' 'HV4' 'INCOME' 'CARDPM12'] not found in axis\"",
     "output_type": "error",
     "traceback": [
      "\u001b[1;31m---------------------------------------------------------------------------\u001b[0m",
      "\u001b[1;31mKeyError\u001b[0m                                  Traceback (most recent call last)",
      "\u001b[1;32m<ipython-input-305-3adee6c6864e>\u001b[0m in \u001b[0;36m<module>\u001b[1;34m\u001b[0m\n\u001b[1;32m----> 1\u001b[1;33m \u001b[0mcategoricals\u001b[0m \u001b[1;33m=\u001b[0m \u001b[0mcategoricals\u001b[0m\u001b[1;33m.\u001b[0m\u001b[0mdrop\u001b[0m\u001b[1;33m(\u001b[0m\u001b[1;33m[\u001b[0m\u001b[1;34m'HV3'\u001b[0m\u001b[1;33m,\u001b[0m \u001b[1;34m'HV4'\u001b[0m\u001b[1;33m,\u001b[0m \u001b[1;34m'INCOME'\u001b[0m\u001b[1;33m,\u001b[0m \u001b[1;34m'CARDPM12'\u001b[0m\u001b[1;33m]\u001b[0m\u001b[1;33m,\u001b[0m \u001b[0maxis\u001b[0m\u001b[1;33m=\u001b[0m\u001b[1;36m1\u001b[0m\u001b[1;33m)\u001b[0m\u001b[1;33m\u001b[0m\u001b[1;33m\u001b[0m\u001b[0m\n\u001b[0m",
      "\u001b[1;32mc:\\python\\python391\\lib\\site-packages\\pandas\\core\\frame.py\u001b[0m in \u001b[0;36mdrop\u001b[1;34m(self, labels, axis, index, columns, level, inplace, errors)\u001b[0m\n\u001b[0;32m   4303\u001b[0m                 \u001b[0mweight\u001b[0m  \u001b[1;36m1.0\u001b[0m     \u001b[1;36m0.8\u001b[0m\u001b[1;33m\u001b[0m\u001b[1;33m\u001b[0m\u001b[0m\n\u001b[0;32m   4304\u001b[0m         \"\"\"\n\u001b[1;32m-> 4305\u001b[1;33m         return super().drop(\n\u001b[0m\u001b[0;32m   4306\u001b[0m             \u001b[0mlabels\u001b[0m\u001b[1;33m=\u001b[0m\u001b[0mlabels\u001b[0m\u001b[1;33m,\u001b[0m\u001b[1;33m\u001b[0m\u001b[1;33m\u001b[0m\u001b[0m\n\u001b[0;32m   4307\u001b[0m             \u001b[0maxis\u001b[0m\u001b[1;33m=\u001b[0m\u001b[0maxis\u001b[0m\u001b[1;33m,\u001b[0m\u001b[1;33m\u001b[0m\u001b[1;33m\u001b[0m\u001b[0m\n",
      "\u001b[1;32mc:\\python\\python391\\lib\\site-packages\\pandas\\core\\generic.py\u001b[0m in \u001b[0;36mdrop\u001b[1;34m(self, labels, axis, index, columns, level, inplace, errors)\u001b[0m\n\u001b[0;32m   4148\u001b[0m         \u001b[1;32mfor\u001b[0m \u001b[0maxis\u001b[0m\u001b[1;33m,\u001b[0m \u001b[0mlabels\u001b[0m \u001b[1;32min\u001b[0m \u001b[0maxes\u001b[0m\u001b[1;33m.\u001b[0m\u001b[0mitems\u001b[0m\u001b[1;33m(\u001b[0m\u001b[1;33m)\u001b[0m\u001b[1;33m:\u001b[0m\u001b[1;33m\u001b[0m\u001b[1;33m\u001b[0m\u001b[0m\n\u001b[0;32m   4149\u001b[0m             \u001b[1;32mif\u001b[0m \u001b[0mlabels\u001b[0m \u001b[1;32mis\u001b[0m \u001b[1;32mnot\u001b[0m \u001b[1;32mNone\u001b[0m\u001b[1;33m:\u001b[0m\u001b[1;33m\u001b[0m\u001b[1;33m\u001b[0m\u001b[0m\n\u001b[1;32m-> 4150\u001b[1;33m                 \u001b[0mobj\u001b[0m \u001b[1;33m=\u001b[0m \u001b[0mobj\u001b[0m\u001b[1;33m.\u001b[0m\u001b[0m_drop_axis\u001b[0m\u001b[1;33m(\u001b[0m\u001b[0mlabels\u001b[0m\u001b[1;33m,\u001b[0m \u001b[0maxis\u001b[0m\u001b[1;33m,\u001b[0m \u001b[0mlevel\u001b[0m\u001b[1;33m=\u001b[0m\u001b[0mlevel\u001b[0m\u001b[1;33m,\u001b[0m \u001b[0merrors\u001b[0m\u001b[1;33m=\u001b[0m\u001b[0merrors\u001b[0m\u001b[1;33m)\u001b[0m\u001b[1;33m\u001b[0m\u001b[1;33m\u001b[0m\u001b[0m\n\u001b[0m\u001b[0;32m   4151\u001b[0m \u001b[1;33m\u001b[0m\u001b[0m\n\u001b[0;32m   4152\u001b[0m         \u001b[1;32mif\u001b[0m \u001b[0minplace\u001b[0m\u001b[1;33m:\u001b[0m\u001b[1;33m\u001b[0m\u001b[1;33m\u001b[0m\u001b[0m\n",
      "\u001b[1;32mc:\\python\\python391\\lib\\site-packages\\pandas\\core\\generic.py\u001b[0m in \u001b[0;36m_drop_axis\u001b[1;34m(self, labels, axis, level, errors)\u001b[0m\n\u001b[0;32m   4183\u001b[0m                 \u001b[0mnew_axis\u001b[0m \u001b[1;33m=\u001b[0m \u001b[0maxis\u001b[0m\u001b[1;33m.\u001b[0m\u001b[0mdrop\u001b[0m\u001b[1;33m(\u001b[0m\u001b[0mlabels\u001b[0m\u001b[1;33m,\u001b[0m \u001b[0mlevel\u001b[0m\u001b[1;33m=\u001b[0m\u001b[0mlevel\u001b[0m\u001b[1;33m,\u001b[0m \u001b[0merrors\u001b[0m\u001b[1;33m=\u001b[0m\u001b[0merrors\u001b[0m\u001b[1;33m)\u001b[0m\u001b[1;33m\u001b[0m\u001b[1;33m\u001b[0m\u001b[0m\n\u001b[0;32m   4184\u001b[0m             \u001b[1;32melse\u001b[0m\u001b[1;33m:\u001b[0m\u001b[1;33m\u001b[0m\u001b[1;33m\u001b[0m\u001b[0m\n\u001b[1;32m-> 4185\u001b[1;33m                 \u001b[0mnew_axis\u001b[0m \u001b[1;33m=\u001b[0m \u001b[0maxis\u001b[0m\u001b[1;33m.\u001b[0m\u001b[0mdrop\u001b[0m\u001b[1;33m(\u001b[0m\u001b[0mlabels\u001b[0m\u001b[1;33m,\u001b[0m \u001b[0merrors\u001b[0m\u001b[1;33m=\u001b[0m\u001b[0merrors\u001b[0m\u001b[1;33m)\u001b[0m\u001b[1;33m\u001b[0m\u001b[1;33m\u001b[0m\u001b[0m\n\u001b[0m\u001b[0;32m   4186\u001b[0m             \u001b[0mresult\u001b[0m \u001b[1;33m=\u001b[0m \u001b[0mself\u001b[0m\u001b[1;33m.\u001b[0m\u001b[0mreindex\u001b[0m\u001b[1;33m(\u001b[0m\u001b[1;33m**\u001b[0m\u001b[1;33m{\u001b[0m\u001b[0maxis_name\u001b[0m\u001b[1;33m:\u001b[0m \u001b[0mnew_axis\u001b[0m\u001b[1;33m}\u001b[0m\u001b[1;33m)\u001b[0m\u001b[1;33m\u001b[0m\u001b[1;33m\u001b[0m\u001b[0m\n\u001b[0;32m   4187\u001b[0m \u001b[1;33m\u001b[0m\u001b[0m\n",
      "\u001b[1;32mc:\\python\\python391\\lib\\site-packages\\pandas\\core\\indexes\\base.py\u001b[0m in \u001b[0;36mdrop\u001b[1;34m(self, labels, errors)\u001b[0m\n\u001b[0;32m   5589\u001b[0m         \u001b[1;32mif\u001b[0m \u001b[0mmask\u001b[0m\u001b[1;33m.\u001b[0m\u001b[0many\u001b[0m\u001b[1;33m(\u001b[0m\u001b[1;33m)\u001b[0m\u001b[1;33m:\u001b[0m\u001b[1;33m\u001b[0m\u001b[1;33m\u001b[0m\u001b[0m\n\u001b[0;32m   5590\u001b[0m             \u001b[1;32mif\u001b[0m \u001b[0merrors\u001b[0m \u001b[1;33m!=\u001b[0m \u001b[1;34m\"ignore\"\u001b[0m\u001b[1;33m:\u001b[0m\u001b[1;33m\u001b[0m\u001b[1;33m\u001b[0m\u001b[0m\n\u001b[1;32m-> 5591\u001b[1;33m                 \u001b[1;32mraise\u001b[0m \u001b[0mKeyError\u001b[0m\u001b[1;33m(\u001b[0m\u001b[1;34mf\"{labels[mask]} not found in axis\"\u001b[0m\u001b[1;33m)\u001b[0m\u001b[1;33m\u001b[0m\u001b[1;33m\u001b[0m\u001b[0m\n\u001b[0m\u001b[0;32m   5592\u001b[0m             \u001b[0mindexer\u001b[0m \u001b[1;33m=\u001b[0m \u001b[0mindexer\u001b[0m\u001b[1;33m[\u001b[0m\u001b[1;33m~\u001b[0m\u001b[0mmask\u001b[0m\u001b[1;33m]\u001b[0m\u001b[1;33m\u001b[0m\u001b[1;33m\u001b[0m\u001b[0m\n\u001b[0;32m   5593\u001b[0m         \u001b[1;32mreturn\u001b[0m \u001b[0mself\u001b[0m\u001b[1;33m.\u001b[0m\u001b[0mdelete\u001b[0m\u001b[1;33m(\u001b[0m\u001b[0mindexer\u001b[0m\u001b[1;33m)\u001b[0m\u001b[1;33m\u001b[0m\u001b[1;33m\u001b[0m\u001b[0m\n",
      "\u001b[1;31mKeyError\u001b[0m: \"['HV3' 'HV4' 'INCOME' 'CARDPM12'] not found in axis\""
     ]
    }
   ],
   "source": [
    "categoricals = categoricals.drop(['HV3', 'HV4', 'INCOME', 'CARDPM12'], axis=1)"
   ]
  },
  {
   "cell_type": "code",
   "execution_count": 306,
   "metadata": {},
   "outputs": [],
   "source": [
    "from sklearn.preprocessing import OneHotEncoder"
   ]
  },
  {
   "cell_type": "code",
   "execution_count": 307,
   "metadata": {},
   "outputs": [],
   "source": [
    "encoder = OneHotEncoder(handle_unknown='error', drop='first').fit(categoricals)\n",
    "encoded = encoder.transform(categoricals).toarray()"
   ]
  },
  {
   "cell_type": "code",
   "execution_count": 279,
   "metadata": {},
   "outputs": [],
   "source": [
    "X = np.concatenate((x_standardized, encoded), axis=1)"
   ]
  },
  {
   "cell_type": "code",
   "execution_count": 280,
   "metadata": {},
   "outputs": [],
   "source": [
    "from sklearn.model_selection import train_test_split\n",
    "from sklearn import linear_model\n",
    "from sklearn.metrics import r2_score"
   ]
  },
  {
   "cell_type": "code",
   "execution_count": 292,
   "metadata": {},
   "outputs": [
    {
     "ename": "LinAlgError",
     "evalue": "SVD did not converge in Linear Least Squares",
     "output_type": "error",
     "traceback": [
      "\u001b[1;31m---------------------------------------------------------------------------\u001b[0m",
      "\u001b[1;31mLinAlgError\u001b[0m                               Traceback (most recent call last)",
      "\u001b[1;32m<ipython-input-292-94635b242c7b>\u001b[0m in \u001b[0;36m<module>\u001b[1;34m\u001b[0m\n\u001b[0;32m      1\u001b[0m \u001b[0mX_train\u001b[0m\u001b[1;33m,\u001b[0m \u001b[0mX_test\u001b[0m\u001b[1;33m,\u001b[0m \u001b[0my_train\u001b[0m\u001b[1;33m,\u001b[0m \u001b[0my_test\u001b[0m \u001b[1;33m=\u001b[0m \u001b[0mtrain_test_split\u001b[0m\u001b[1;33m(\u001b[0m\u001b[0mX\u001b[0m\u001b[1;33m,\u001b[0m \u001b[0my\u001b[0m\u001b[1;33m,\u001b[0m \u001b[0mtest_size\u001b[0m\u001b[1;33m=\u001b[0m\u001b[1;36m0.4\u001b[0m\u001b[1;33m,\u001b[0m \u001b[0mrandom_state\u001b[0m\u001b[1;33m=\u001b[0m\u001b[1;36m100\u001b[0m\u001b[1;33m)\u001b[0m\u001b[1;33m\u001b[0m\u001b[1;33m\u001b[0m\u001b[0m\n\u001b[0;32m      2\u001b[0m \u001b[0mlm\u001b[0m \u001b[1;33m=\u001b[0m \u001b[0mlinear_model\u001b[0m\u001b[1;33m.\u001b[0m\u001b[0mLinearRegression\u001b[0m\u001b[1;33m(\u001b[0m\u001b[1;33m)\u001b[0m\u001b[1;33m\u001b[0m\u001b[1;33m\u001b[0m\u001b[0m\n\u001b[1;32m----> 3\u001b[1;33m \u001b[0mmodel\u001b[0m \u001b[1;33m=\u001b[0m \u001b[0mlm\u001b[0m\u001b[1;33m.\u001b[0m\u001b[0mfit\u001b[0m\u001b[1;33m(\u001b[0m\u001b[0mX_train\u001b[0m\u001b[1;33m,\u001b[0m\u001b[0my_train\u001b[0m\u001b[1;33m)\u001b[0m\u001b[1;33m\u001b[0m\u001b[1;33m\u001b[0m\u001b[0m\n\u001b[0m\u001b[0;32m      4\u001b[0m \u001b[0mpredictions\u001b[0m  \u001b[1;33m=\u001b[0m \u001b[0mlm\u001b[0m\u001b[1;33m.\u001b[0m\u001b[0mpredict\u001b[0m\u001b[1;33m(\u001b[0m\u001b[0mX_test\u001b[0m\u001b[1;33m)\u001b[0m\u001b[1;33m\u001b[0m\u001b[1;33m\u001b[0m\u001b[0m\n\u001b[0;32m      5\u001b[0m \u001b[0mr2_score\u001b[0m\u001b[1;33m(\u001b[0m\u001b[0my_test\u001b[0m\u001b[1;33m,\u001b[0m \u001b[0mpredictions\u001b[0m\u001b[1;33m)\u001b[0m\u001b[1;33m\u001b[0m\u001b[1;33m\u001b[0m\u001b[0m\n",
      "\u001b[1;32mc:\\python\\python391\\lib\\site-packages\\sklearn\\linear_model\\_base.py\u001b[0m in \u001b[0;36mfit\u001b[1;34m(self, X, y, sample_weight)\u001b[0m\n\u001b[0;32m    567\u001b[0m         \u001b[1;32melse\u001b[0m\u001b[1;33m:\u001b[0m\u001b[1;33m\u001b[0m\u001b[1;33m\u001b[0m\u001b[0m\n\u001b[0;32m    568\u001b[0m             \u001b[0mself\u001b[0m\u001b[1;33m.\u001b[0m\u001b[0mcoef_\u001b[0m\u001b[1;33m,\u001b[0m \u001b[0mself\u001b[0m\u001b[1;33m.\u001b[0m\u001b[0m_residues\u001b[0m\u001b[1;33m,\u001b[0m \u001b[0mself\u001b[0m\u001b[1;33m.\u001b[0m\u001b[0mrank_\u001b[0m\u001b[1;33m,\u001b[0m \u001b[0mself\u001b[0m\u001b[1;33m.\u001b[0m\u001b[0msingular_\u001b[0m \u001b[1;33m=\u001b[0m\u001b[0;31m \u001b[0m\u001b[0;31m\\\u001b[0m\u001b[1;33m\u001b[0m\u001b[1;33m\u001b[0m\u001b[0m\n\u001b[1;32m--> 569\u001b[1;33m                 \u001b[0mlinalg\u001b[0m\u001b[1;33m.\u001b[0m\u001b[0mlstsq\u001b[0m\u001b[1;33m(\u001b[0m\u001b[0mX\u001b[0m\u001b[1;33m,\u001b[0m \u001b[0my\u001b[0m\u001b[1;33m)\u001b[0m\u001b[1;33m\u001b[0m\u001b[1;33m\u001b[0m\u001b[0m\n\u001b[0m\u001b[0;32m    570\u001b[0m             \u001b[0mself\u001b[0m\u001b[1;33m.\u001b[0m\u001b[0mcoef_\u001b[0m \u001b[1;33m=\u001b[0m \u001b[0mself\u001b[0m\u001b[1;33m.\u001b[0m\u001b[0mcoef_\u001b[0m\u001b[1;33m.\u001b[0m\u001b[0mT\u001b[0m\u001b[1;33m\u001b[0m\u001b[1;33m\u001b[0m\u001b[0m\n\u001b[0;32m    571\u001b[0m \u001b[1;33m\u001b[0m\u001b[0m\n",
      "\u001b[1;32mc:\\python\\python391\\lib\\site-packages\\scipy\\linalg\\basic.py\u001b[0m in \u001b[0;36mlstsq\u001b[1;34m(a, b, cond, overwrite_a, overwrite_b, check_finite, lapack_driver)\u001b[0m\n\u001b[0;32m   1205\u001b[0m                                                cond, False, False)\n\u001b[0;32m   1206\u001b[0m         \u001b[1;32mif\u001b[0m \u001b[0minfo\u001b[0m \u001b[1;33m>\u001b[0m \u001b[1;36m0\u001b[0m\u001b[1;33m:\u001b[0m\u001b[1;33m\u001b[0m\u001b[1;33m\u001b[0m\u001b[0m\n\u001b[1;32m-> 1207\u001b[1;33m             \u001b[1;32mraise\u001b[0m \u001b[0mLinAlgError\u001b[0m\u001b[1;33m(\u001b[0m\u001b[1;34m\"SVD did not converge in Linear Least Squares\"\u001b[0m\u001b[1;33m)\u001b[0m\u001b[1;33m\u001b[0m\u001b[1;33m\u001b[0m\u001b[0m\n\u001b[0m\u001b[0;32m   1208\u001b[0m         \u001b[1;32mif\u001b[0m \u001b[0minfo\u001b[0m \u001b[1;33m<\u001b[0m \u001b[1;36m0\u001b[0m\u001b[1;33m:\u001b[0m\u001b[1;33m\u001b[0m\u001b[1;33m\u001b[0m\u001b[0m\n\u001b[0;32m   1209\u001b[0m             raise ValueError('illegal value in %d-th argument of internal %s'\n",
      "\u001b[1;31mLinAlgError\u001b[0m: SVD did not converge in Linear Least Squares"
     ]
    }
   ],
   "source": [
    "X_train, X_test, y_train, y_test = train_test_split(X, y, test_size=0.4, random_state=100)\n",
    "lm = linear_model.LinearRegression()\n",
    "model = lm.fit(X_train,y_train)\n",
    "predictions  = lm.predict(X_test)\n",
    "r2_score(y_test, predictions)"
   ]
  },
  {
   "cell_type": "code",
   "execution_count": null,
   "metadata": {},
   "outputs": [],
   "source": [
    "X_train, X_test, y_train, y_test = train_test_split(X, y, test_size=0.35, random_state=100)\n",
    "lm = linear_model.LinearRegression()\n",
    "model = lm.fit(X_train,y_train)\n",
    "predictions  = lm.predict(X_test)\n",
    "r_squared = r2_score(y_test, predictions)"
   ]
  },
  {
   "cell_type": "code",
   "execution_count": null,
   "metadata": {},
   "outputs": [],
   "source": [
    "r_squared"
   ]
  },
  {
   "cell_type": "code",
   "execution_count": null,
   "metadata": {},
   "outputs": [],
   "source": [
    "adjusted_r_squared = 1 - (1-r_squared)*(len(y_test)-1)/(len(y_test)-X_test.shape[1]-1)"
   ]
  },
  {
   "cell_type": "code",
   "execution_count": null,
   "metadata": {},
   "outputs": [],
   "source": [
    "from sklearn.neighbors import KNeighborsRegressor\n",
    "model = KNeighborsRegressor(n_neighbors=4)\n",
    "model.fit(X_train, y_train)\n",
    "model.score(X_test, y_test)"
   ]
  },
  {
   "cell_type": "code",
   "execution_count": 286,
   "metadata": {},
   "outputs": [],
   "source": [
    "from sklearn.metrics import mean_squared_error"
   ]
  },
  {
   "cell_type": "code",
   "execution_count": 287,
   "metadata": {},
   "outputs": [],
   "source": [
    "from sklearn.neighbors import KNeighborsRegressor\n",
    "scores = []\n",
    "for i in range(5,40,3):\n",
    "    model = KNeighborsRegressor(n_neighbors=i)\n",
    "    model.fit(X_train, y_train)\n",
    "    scores.append(model.score(X_test, y_test))"
   ]
  },
  {
   "cell_type": "code",
   "execution_count": null,
   "metadata": {},
   "outputs": [],
   "source": []
  },
  {
   "cell_type": "code",
   "execution_count": 266,
   "metadata": {},
   "outputs": [
    {
     "data": {
      "text/plain": [
       "Text(0, 0.5, 'Accuracy')"
      ]
     },
     "execution_count": 266,
     "metadata": {},
     "output_type": "execute_result"
    },
    {
     "data": {
      "image/png": "[encoded data removed]",
      "text/plain": [
       "<Figure size 720x432 with 1 Axes>"
      ]
     },
     "metadata": {
      "needs_background": "light"
     },
     "output_type": "display_data"
    }
   ],
   "source": [
    "plt.figure(figsize=(10,6))\n",
    "plt.plot(range(5,40,3),scores,color = 'blue',linestyle='dashed', \n",
    "         marker='o',markerfacecolor='red', markersize=10)\n",
    "plt.title('accuracy scores vs. K Value')\n",
    "plt.xlabel('K')\n",
    "plt.ylabel('Accuracy')"
   ]
  },
  {
   "cell_type": "code",
   "execution_count": null,
   "metadata": {},
   "outputs": [],
   "source": [
    "# clean_data = pd.concat([numericals, categoricals, y], axis=1)"
   ]
  },
  {
   "cell_type": "code",
   "execution_count": null,
   "metadata": {},
   "outputs": [],
   "source": [
    "# clean_data.to_csv('Lesson_4.05_data.csv')"
   ]
  },
  {
   "cell_type": "code",
   "execution_count": null,
   "metadata": {},
   "outputs": [],
   "source": []
  },
  {
   "cell_type": "code",
   "execution_count": 288,
   "metadata": {},
   "outputs": [],
   "source": [
    "complexities = []\n",
    "for i in range(5,40,3):\n",
    "    complexities.append(np.log(1/i))"
   ]
  },
  {
   "cell_type": "code",
   "execution_count": 289,
   "metadata": {},
   "outputs": [
    {
     "data": {
      "text/plain": [
       "[-1.6094379124341003,\n",
       " -2.0794415416798357,\n",
       " -2.3978952727983707,\n",
       " -2.639057329615259,\n",
       " -2.833213344056216,\n",
       " -2.995732273553991,\n",
       " -3.1354942159291497,\n",
       " -3.258096538021482,\n",
       " -3.367295829986474,\n",
       " -3.4657359027997265,\n",
       " -3.5553480614894135,\n",
       " -3.6375861597263857]"
      ]
     },
     "execution_count": 289,
     "metadata": {},
     "output_type": "execute_result"
    }
   ],
   "source": [
    "complexities"
   ]
  },
  {
   "cell_type": "code",
   "execution_count": null,
   "metadata": {},
   "outputs": [],
   "source": []
  },
  {
   "cell_type": "code",
   "execution_count": 290,
   "metadata": {},
   "outputs": [
    {
     "data": {
      "image/png": "[encoded data removed]",
      "text/plain": [
       "<Figure size 432x288 with 1 Axes>"
      ]
     },
     "metadata": {
      "needs_background": "light"
     },
     "output_type": "display_data"
    },
    {
     "data": {
      "image/png": "[encoded data removed]",
      "text/plain": [
       "<Figure size 720x432 with 1 Axes>"
      ]
     },
     "metadata": {
      "needs_background": "light"
     },
     "output_type": "display_data"
    }
   ],
   "source": [
    "fig, ax = plt.subplots(1,1)\n",
    "\n",
    "plt.figure(figsize=(10,6))\n",
    "plt.plot(complexities,scores,color = 'blue',linestyle='dashed', \n",
    "         marker='o',markerfacecolor='red', markersize=10)\n",
    "plt.title('accuracy scores vs. Complexity')\n",
    "plt.xlabel('Complexity')\n",
    "plt.ylabel('Accuracy')\n",
    "\n",
    "k = np.arange(5,40,4)\n",
    "for i, txt in enumerate(k):\n",
    "    ax.annotate(txt, (complexities[i], scores[i]))"
   ]
  },
  {
   "cell_type": "code",
   "execution_count": 291,
   "metadata": {},
   "outputs": [
    {
     "data": {
      "text/plain": [
       "-3.6888794541139363"
      ]
     },
     "execution_count": 291,
     "metadata": {},
     "output_type": "execute_result"
    }
   ],
   "source": [
    "np.log(1/40)"
   ]
  },
  {
   "cell_type": "code",
   "execution_count": null,
   "metadata": {},
   "outputs": [],
   "source": []
  },
  {
   "cell_type": "code",
   "execution_count": null,
   "metadata": {},
   "outputs": [],
   "source": []
  }
 ],
 "metadata": {
  "kernelspec": {
   "display_name": "Python 3",
   "language": "python",
   "name": "python3"
  },
  "language_info": {
   "codemirror_mode": {
    "name": "ipython",
    "version": 3
   },
   "file_extension": ".py",
   "mimetype": "text/x-python",
   "name": "python",
   "nbconvert_exporter": "python",
   "pygments_lexer": "ipython3",
   "version": "3.9.1"
  }
 },
 "nbformat": 4,
 "nbformat_minor": 2
}
