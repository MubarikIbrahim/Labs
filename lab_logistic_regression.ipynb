{
 "cells": [
  {
   "cell_type": "code",
   "execution_count": 22,
   "metadata": {},
   "outputs": [
    {
     "name": "stdout",
     "output_type": "stream",
     "text": [
      "········\n"
     ]
    }
   ],
   "source": [
    "import pymysql\n",
    "from sqlalchemy import create_engine\n",
    "import pandas as pd\n",
    "import warnings\n",
    "warnings.filterwarnings('ignore')\n",
    "import getpass  # To get the password without showing the input\n",
    "password = getpass.getpass()"
   ]
  },
  {
   "cell_type": "code",
   "execution_count": 23,
   "metadata": {},
   "outputs": [],
   "source": [
    "import numpy as np\n",
    "import seaborn as sns\n",
    "import matplotlib.pyplot as plt"
   ]
  },
  {
   "cell_type": "code",
   "execution_count": 24,
   "metadata": {},
   "outputs": [],
   "source": [
    "import sklearn as sln"
   ]
  },
  {
   "cell_type": "code",
   "execution_count": 25,
   "metadata": {},
   "outputs": [],
   "source": [
    "connection_string = 'mysql+pymysql://root:' + password + '@localhost/sakila'\n",
    "engine = create_engine(connection_string)\n",
    "# data = pd.read_sql_query('SELECT * FROM loan', engine)\n",
    "# data.head()"
   ]
  },
  {
   "cell_type": "code",
   "execution_count": 26,
   "metadata": {},
   "outputs": [
    {
     "data": {
      "text/html": [
       "<div>\n",
       "<style scoped>\n",
       "    .dataframe tbody tr th:only-of-type {\n",
       "        vertical-align: middle;\n",
       "    }\n",
       "\n",
       "    .dataframe tbody tr th {\n",
       "        vertical-align: top;\n",
       "    }\n",
       "\n",
       "    .dataframe thead th {\n",
       "        text-align: right;\n",
       "    }\n",
       "</style>\n",
       "<table border=\"1\" class=\"dataframe\">\n",
       "  <thead>\n",
       "    <tr style=\"text-align: right;\">\n",
       "      <th></th>\n",
       "      <th>rental_duration</th>\n",
       "      <th>rental_rate</th>\n",
       "      <th>length</th>\n",
       "      <th>replacement_cost</th>\n",
       "      <th>rating</th>\n",
       "      <th>name</th>\n",
       "    </tr>\n",
       "  </thead>\n",
       "  <tbody>\n",
       "    <tr>\n",
       "      <th>0</th>\n",
       "      <td>6</td>\n",
       "      <td>0.99</td>\n",
       "      <td>113</td>\n",
       "      <td>20.99</td>\n",
       "      <td>PG</td>\n",
       "      <td>Action</td>\n",
       "    </tr>\n",
       "    <tr>\n",
       "      <th>1</th>\n",
       "      <td>3</td>\n",
       "      <td>4.99</td>\n",
       "      <td>129</td>\n",
       "      <td>17.99</td>\n",
       "      <td>R</td>\n",
       "      <td>Action</td>\n",
       "    </tr>\n",
       "    <tr>\n",
       "      <th>2</th>\n",
       "      <td>5</td>\n",
       "      <td>2.99</td>\n",
       "      <td>168</td>\n",
       "      <td>11.99</td>\n",
       "      <td>NC-17</td>\n",
       "      <td>Action</td>\n",
       "    </tr>\n",
       "    <tr>\n",
       "      <th>3</th>\n",
       "      <td>6</td>\n",
       "      <td>0.99</td>\n",
       "      <td>68</td>\n",
       "      <td>25.99</td>\n",
       "      <td>NC-17</td>\n",
       "      <td>Action</td>\n",
       "    </tr>\n",
       "    <tr>\n",
       "      <th>4</th>\n",
       "      <td>6</td>\n",
       "      <td>2.99</td>\n",
       "      <td>129</td>\n",
       "      <td>15.99</td>\n",
       "      <td>G</td>\n",
       "      <td>Action</td>\n",
       "    </tr>\n",
       "  </tbody>\n",
       "</table>\n",
       "</div>"
      ],
      "text/plain": [
       "   rental_duration  rental_rate  length  replacement_cost rating    name\n",
       "0                6         0.99     113             20.99     PG  Action\n",
       "1                3         4.99     129             17.99      R  Action\n",
       "2                5         2.99     168             11.99  NC-17  Action\n",
       "3                6         0.99      68             25.99  NC-17  Action\n",
       "4                6         2.99     129             15.99      G  Action"
      ]
     },
     "execution_count": 26,
     "metadata": {},
     "output_type": "execute_result"
    }
   ],
   "source": [
    "query = '''select rental_duration, rental_rate, length, replacement_cost, rating, name from category as c\n",
    "join film_category as fc\n",
    "on c.category_id = fc.category_id\n",
    "join film as f\n",
    "on f.film_id = fc.film_id\n",
    "where c.category_id < 5;'''\n",
    "\n",
    "data = pd.read_sql(query, engine)\n",
    "data.head()"
   ]
  },
  {
   "cell_type": "code",
   "execution_count": 27,
   "metadata": {},
   "outputs": [
    {
     "data": {
      "text/plain": [
       "(247, 6)"
      ]
     },
     "execution_count": 27,
     "metadata": {},
     "output_type": "execute_result"
    }
   ],
   "source": [
    "data.shape"
   ]
  },
  {
   "cell_type": "code",
   "execution_count": 28,
   "metadata": {},
   "outputs": [
    {
     "data": {
      "text/plain": [
       "rental_duration       int64\n",
       "rental_rate         float64\n",
       "length                int64\n",
       "replacement_cost    float64\n",
       "rating               object\n",
       "name                 object\n",
       "dtype: object"
      ]
     },
     "execution_count": 28,
     "metadata": {},
     "output_type": "execute_result"
    }
   ],
   "source": [
    "data.dtypes"
   ]
  },
  {
   "cell_type": "code",
   "execution_count": 29,
   "metadata": {},
   "outputs": [],
   "source": [
    "data['rental_rate'] = data['rental_rate'].astype('object')\n",
    "data['replacement_cost'] = data['replacement_cost'].astype('float64')\n",
    "data['rating'] = data['rating'].astype('object')\n",
    "data['rental_duration'] = data['rental_duration'].astype('object')"
   ]
  },
  {
   "cell_type": "code",
   "execution_count": 30,
   "metadata": {},
   "outputs": [
    {
     "data": {
      "text/plain": [
       "rental_duration      object\n",
       "rental_rate          object\n",
       "length                int64\n",
       "replacement_cost    float64\n",
       "rating               object\n",
       "name                 object\n",
       "dtype: object"
      ]
     },
     "execution_count": 30,
     "metadata": {},
     "output_type": "execute_result"
    }
   ],
   "source": [
    "data.dtypes"
   ]
  },
  {
   "cell_type": "code",
   "execution_count": 31,
   "metadata": {},
   "outputs": [
    {
     "data": {
      "text/plain": [
       "12.99    19\n",
       "29.99    19\n",
       "27.99    17\n",
       "14.99    15\n",
       "13.99    14\n",
       "28.99    14\n",
       "22.99    13\n",
       "18.99    12\n",
       "16.99    12\n",
       "23.99    12\n",
       "24.99    11\n",
       "26.99    11\n",
       "20.99    10\n",
       "21.99    10\n",
       "19.99     9\n",
       "17.99     9\n",
       "10.99     9\n",
       "11.99     9\n",
       "15.99     8\n",
       "25.99     7\n",
       "9.99      7\n",
       "Name: replacement_cost, dtype: int64"
      ]
     },
     "execution_count": 31,
     "metadata": {},
     "output_type": "execute_result"
    }
   ],
   "source": [
    "data['replacement_cost'].value_counts()"
   ]
  },
  {
   "cell_type": "code",
   "execution_count": 32,
   "metadata": {},
   "outputs": [
    {
     "data": {
      "text/plain": [
       "3    54\n",
       "6    52\n",
       "7    49\n",
       "5    46\n",
       "4    46\n",
       "Name: rental_duration, dtype: int64"
      ]
     },
     "execution_count": 32,
     "metadata": {},
     "output_type": "execute_result"
    }
   ],
   "source": [
    "data['rental_duration'].value_counts()"
   ]
  },
  {
   "cell_type": "code",
   "execution_count": 33,
   "metadata": {},
   "outputs": [
    {
     "data": {
      "text/plain": [
       "rental_duration     0\n",
       "rental_rate         0\n",
       "length              0\n",
       "replacement_cost    0\n",
       "rating              0\n",
       "name                0\n",
       "dtype: int64"
      ]
     },
     "execution_count": 33,
     "metadata": {},
     "output_type": "execute_result"
    }
   ],
   "source": [
    "data.isna().sum()"
   ]
  },
  {
   "cell_type": "code",
   "execution_count": 34,
   "metadata": {},
   "outputs": [],
   "source": [
    "from scipy import stats\n",
    "def feat_log_box(df, feature, bins):\n",
    "    \"\"\"makes a log Transformation and a boxcox transformation of a feature of a dataframe. \\n\n",
    "    0 values are replaced with the mean in the transformation: \\n\n",
    "    plots 3 distplots next to each other for comparison \\n\n",
    "    tales 3 arguments (df, feature, bins)\"\"\"\n",
    "    df[feature+'_log'] = list(map(lambda x: np.log(x) if np.isfinite(x) else np.NAN, df[feature]))\n",
    "    df[feature+'_log'] = df[feature+'_log'].fillna(np.mean(df[feature+'_log']))\n",
    "    df[feature+'_boxcox'] = np.where(df[feature]<=0,0,df[feature])\n",
    "    mean = np.sum(df[feature+'_boxcox'])/len(df[df[feature+'_boxcox']>0])\n",
    "    df[feature+'_boxcox'] = df[feature+'_boxcox'].replace(0,mean)\n",
    "    xt, lmbda = stats.boxcox(df[feature+'_boxcox'])\n",
    "    df[feature+'_boxcox'] = xt\n",
    "    fig, (ax1, ax2, ax3) = plt.subplots(1, 3, figsize = (15,4))\n",
    "    sns.distplot(df[feature], bins, ax=ax1)\n",
    "    ax1.set_title(feature)\n",
    "    sns.distplot(df[feature+'_log'], bins, ax=ax2)\n",
    "    ax2.set_title(feature + '_log')\n",
    "    sns.distplot(xt, bins, ax=ax3)\n",
    "    ax3.set_title(feature + '_boxcox')"
   ]
  },
  {
   "cell_type": "code",
   "execution_count": 35,
   "metadata": {},
   "outputs": [
    {
     "data": {
      "image/png": "[encoded data removed]",
      "text/plain": [
       "<Figure size 1080x288 with 3 Axes>"
      ]
     },
     "metadata": {
      "needs_background": "light"
     },
     "output_type": "display_data"
    }
   ],
   "source": [
    "feat_log_box(data, 'length', 100) #keep boxcox"
   ]
  },
  {
   "cell_type": "code",
   "execution_count": 36,
   "metadata": {},
   "outputs": [],
   "source": [
    "data.drop(['length_log', 'length'], axis=1, inplace = True)"
   ]
  },
  {
   "cell_type": "code",
   "execution_count": 37,
   "metadata": {
    "scrolled": true
   },
   "outputs": [
    {
     "data": {
      "image/png": "[encoded data removed]",
      "text/plain": [
       "<Figure size 1080x288 with 3 Axes>"
      ]
     },
     "metadata": {
      "needs_background": "light"
     },
     "output_type": "display_data"
    }
   ],
   "source": [
    "feat_log_box(data, 'replacement_cost', 100)"
   ]
  },
  {
   "cell_type": "code",
   "execution_count": 38,
   "metadata": {},
   "outputs": [],
   "source": [
    "data.drop(['replacement_cost_log', 'replacement_cost_boxcox'], axis=1, inplace = True)"
   ]
  },
  {
   "cell_type": "code",
   "execution_count": 39,
   "metadata": {},
   "outputs": [],
   "source": [
    "from sklearn.preprocessing import Normalizer\n",
    "# from sklearn.preprocessing import StandardScaler\n",
    "import numpy as np\n",
    "X = data.select_dtypes(include = np.number)\n",
    "\n",
    "# Normalizing data\n",
    "transformer = Normalizer().fit(X)\n",
    "x_normalized = transformer.transform(X)\n",
    "x = pd.DataFrame(x_normalized)"
   ]
  },
  {
   "cell_type": "code",
   "execution_count": 40,
   "metadata": {},
   "outputs": [],
   "source": [
    "cat = data.select_dtypes(include = np.object)\n",
    "cat = cat.drop(['name'], axis=1)\n",
    "categorical = pd.get_dummies(cat, columns=['rental_duration', 'rental_rate', 'rating'])"
   ]
  },
  {
   "cell_type": "code",
   "execution_count": 41,
   "metadata": {},
   "outputs": [],
   "source": [
    "y = data['name']\n",
    "X = np.concatenate((x, categorical), axis=1)"
   ]
  },
  {
   "cell_type": "code",
   "execution_count": 42,
   "metadata": {},
   "outputs": [],
   "source": [
    "from sklearn.model_selection import train_test_split\n",
    "X_train, X_test, y_train, y_test = train_test_split(X, y, test_size=0.4, random_state=100)"
   ]
  },
  {
   "cell_type": "code",
   "execution_count": 43,
   "metadata": {},
   "outputs": [],
   "source": [
    "from sklearn.linear_model import LogisticRegression\n",
    "classification = LogisticRegression(random_state=0, solver='lbfgs',\n",
    "                  multi_class='multinomial').fit(X_train, y_train)"
   ]
  },
  {
   "cell_type": "code",
   "execution_count": 44,
   "metadata": {},
   "outputs": [
    {
     "data": {
      "text/plain": [
       "0.1919191919191919"
      ]
     },
     "execution_count": 44,
     "metadata": {},
     "output_type": "execute_result"
    }
   ],
   "source": [
    "classification.score(X_test, y_test)"
   ]
  },
  {
   "cell_type": "code",
   "execution_count": 45,
   "metadata": {
    "scrolled": true
   },
   "outputs": [
    {
     "data": {
      "text/plain": [
       "array(['Children', 'Animation', 'Action', 'Children', 'Children',\n",
       "       'Action', 'Action', 'Classics', 'Children', 'Animation',\n",
       "       'Animation', 'Action', 'Action', 'Animation', 'Action', 'Children',\n",
       "       'Action', 'Children', 'Action', 'Animation', 'Children',\n",
       "       'Animation', 'Children', 'Action', 'Animation', 'Action',\n",
       "       'Children', 'Animation', 'Animation', 'Animation', 'Children',\n",
       "       'Children', 'Children', 'Action', 'Action', 'Action', 'Action',\n",
       "       'Classics', 'Animation', 'Children', 'Children', 'Children',\n",
       "       'Action', 'Action', 'Action', 'Animation', 'Animation',\n",
       "       'Animation', 'Action', 'Action', 'Children', 'Action', 'Animation',\n",
       "       'Animation', 'Animation', 'Action', 'Action', 'Action', 'Children',\n",
       "       'Action', 'Action', 'Classics', 'Action', 'Action', 'Animation',\n",
       "       'Children', 'Action', 'Action', 'Children', 'Children', 'Children',\n",
       "       'Animation', 'Children', 'Animation', 'Action', 'Animation',\n",
       "       'Animation', 'Children', 'Action', 'Action', 'Animation',\n",
       "       'Children', 'Action', 'Action', 'Action', 'Children', 'Children',\n",
       "       'Action', 'Action', 'Action', 'Children', 'Children', 'Animation',\n",
       "       'Action', 'Classics', 'Action', 'Children', 'Action', 'Children'],\n",
       "      dtype=object)"
      ]
     },
     "execution_count": 45,
     "metadata": {},
     "output_type": "execute_result"
    }
   ],
   "source": [
    "predictions = classification.predict(X_test)\n",
    "predictions"
   ]
  },
  {
   "cell_type": "code",
   "execution_count": 46,
   "metadata": {},
   "outputs": [
    {
     "data": {
      "text/plain": [
       "Action       41\n",
       "Children     30\n",
       "Animation    24\n",
       "Classics      4\n",
       "dtype: int64"
      ]
     },
     "execution_count": 46,
     "metadata": {},
     "output_type": "execute_result"
    }
   ],
   "source": [
    "pd.Series(predictions).value_counts()"
   ]
  },
  {
   "cell_type": "code",
   "execution_count": 47,
   "metadata": {},
   "outputs": [
    {
     "data": {
      "text/plain": [
       "Classics     28\n",
       "Animation    25\n",
       "Action       24\n",
       "Children     22\n",
       "Name: name, dtype: int64"
      ]
     },
     "execution_count": 47,
     "metadata": {},
     "output_type": "execute_result"
    }
   ],
   "source": [
    "y_test.value_counts()"
   ]
  },
  {
   "cell_type": "code",
   "execution_count": 48,
   "metadata": {},
   "outputs": [
    {
     "data": {
      "text/plain": [
       "array([[ 9,  5, 10,  0],\n",
       "       [ 9,  6,  9,  1],\n",
       "       [10,  5,  4,  3],\n",
       "       [13,  8,  7,  0]], dtype=int64)"
      ]
     },
     "execution_count": 48,
     "metadata": {},
     "output_type": "execute_result"
    }
   ],
   "source": [
    "from sklearn.metrics import confusion_matrix\n",
    "confusion_matrix(y_test, predictions)\n"
   ]
  },
  {
   "cell_type": "code",
   "execution_count": 49,
   "metadata": {
    "scrolled": true
   },
   "outputs": [
    {
     "data": {
      "text/plain": [
       "array([[0.23486707, 0.17410248, 0.38285344, 0.208177  ],\n",
       "       [0.25365677, 0.37937019, 0.23526066, 0.13171238],\n",
       "       [0.38417868, 0.13092137, 0.34390196, 0.14099798],\n",
       "       [0.21138017, 0.27392517, 0.36984942, 0.14484524],\n",
       "       [0.22647805, 0.27123371, 0.36454782, 0.13774042],\n",
       "       [0.48964464, 0.16809884, 0.09492527, 0.24733125],\n",
       "       [0.36069498, 0.32552072, 0.14800552, 0.16577877],\n",
       "       [0.26469766, 0.21447682, 0.24502012, 0.2758054 ],\n",
       "       [0.23410786, 0.23803867, 0.37800062, 0.14985285],\n",
       "       [0.13933144, 0.34600314, 0.24767613, 0.26698928],\n",
       "       [0.15180866, 0.49460552, 0.20483979, 0.14874603],\n",
       "       [0.38119492, 0.13377991, 0.25025258, 0.23477259],\n",
       "       [0.42260664, 0.08259054, 0.22909052, 0.2657123 ],\n",
       "       [0.33114004, 0.34606518, 0.15320748, 0.1695873 ],\n",
       "       [0.44270214, 0.21618229, 0.2124792 , 0.12863637],\n",
       "       [0.14166809, 0.34625034, 0.34762129, 0.16446028],\n",
       "       [0.35623647, 0.23863079, 0.23413556, 0.17099719],\n",
       "       [0.2573755 , 0.17140102, 0.37589594, 0.19532753],\n",
       "       [0.35684966, 0.13638263, 0.25650461, 0.25026311],\n",
       "       [0.18280557, 0.41202557, 0.24362475, 0.16154411],\n",
       "       [0.22539356, 0.27142841, 0.36493886, 0.13823917],\n",
       "       [0.18597722, 0.34851068, 0.31928013, 0.14623197],\n",
       "       [0.23572428, 0.29737874, 0.33133662, 0.13556036],\n",
       "       [0.48388709, 0.10338755, 0.15455545, 0.25816991],\n",
       "       [0.14167997, 0.3554756 , 0.33042492, 0.17241951],\n",
       "       [0.40146902, 0.11189703, 0.25608419, 0.23054976],\n",
       "       [0.16872147, 0.25467102, 0.4005068 , 0.17610071],\n",
       "       [0.12925706, 0.34616825, 0.24826196, 0.27631273],\n",
       "       [0.23427093, 0.45521752, 0.19100721, 0.11950435],\n",
       "       [0.16470947, 0.34512919, 0.24511347, 0.24504788],\n",
       "       [0.20680372, 0.2953026 , 0.36086648, 0.1370272 ],\n",
       "       [0.11661327, 0.29617178, 0.38600666, 0.20120828],\n",
       "       [0.24219488, 0.26838663, 0.35871731, 0.13070118],\n",
       "       [0.48706362, 0.23090438, 0.1526738 , 0.1293582 ],\n",
       "       [0.44049836, 0.12681855, 0.15509239, 0.2775907 ],\n",
       "       [0.48344698, 0.1021735 , 0.23073622, 0.18364329],\n",
       "       [0.50730786, 0.23823264, 0.08905894, 0.16540056],\n",
       "       [0.24536617, 0.24199207, 0.18492093, 0.32772083],\n",
       "       [0.16979026, 0.34486751, 0.24444242, 0.24089981],\n",
       "       [0.21367583, 0.27351843, 0.36906375, 0.143742  ],\n",
       "       [0.15808432, 0.34364171, 0.34368071, 0.15459326],\n",
       "       [0.24778322, 0.17255288, 0.37894376, 0.20072014],\n",
       "       [0.37884677, 0.11187373, 0.36553759, 0.14374191],\n",
       "       [0.37681908, 0.23309651, 0.23279991, 0.1572845 ],\n",
       "       [0.48263834, 0.1694724 , 0.09579539, 0.25209386],\n",
       "       [0.27662931, 0.39275492, 0.21915413, 0.11146164],\n",
       "       [0.23485645, 0.31768457, 0.28417381, 0.16328517],\n",
       "       [0.17572558, 0.35816998, 0.18500093, 0.28110352],\n",
       "       [0.35628672, 0.13644158, 0.25664428, 0.25062742],\n",
       "       [0.47729103, 0.10415436, 0.15583349, 0.26272112],\n",
       "       [0.14982548, 0.34495706, 0.34575006, 0.1594674 ],\n",
       "       [0.37996679, 0.31858358, 0.14454769, 0.15690194],\n",
       "       [0.21792112, 0.27873998, 0.26328862, 0.24005028],\n",
       "       [0.23091852, 0.45643321, 0.19173558, 0.12091269],\n",
       "       [0.14629279, 0.34583383, 0.24711657, 0.26075681],\n",
       "       [0.50340801, 0.1359534 , 0.2369279 , 0.1237107 ],\n",
       "       [0.32566493, 0.25478671, 0.24335162, 0.17619675],\n",
       "       [0.28032077, 0.19913048, 0.25341277, 0.26713598],\n",
       "       [0.31614997, 0.15745386, 0.35245044, 0.17394572],\n",
       "       [0.353275  , 0.08707227, 0.24460455, 0.31504818],\n",
       "       [0.45179506, 0.18174909, 0.15655464, 0.20990121],\n",
       "       [0.23263656, 0.24308456, 0.18611596, 0.33816291],\n",
       "       [0.35952939, 0.13430328, 0.35460666, 0.15156067],\n",
       "       [0.54419878, 0.10723055, 0.13595882, 0.21261184],\n",
       "       [0.13931594, 0.37888888, 0.32017836, 0.16161681],\n",
       "       [0.1772342 , 0.31911791, 0.34903814, 0.15460975],\n",
       "       [0.42882498, 0.21980878, 0.21693562, 0.13443062],\n",
       "       [0.29792241, 0.25091395, 0.24928025, 0.20188339],\n",
       "       [0.16565643, 0.22026325, 0.43103926, 0.18304107],\n",
       "       [0.25357444, 0.26629623, 0.35431731, 0.12581203],\n",
       "       [0.16047689, 0.24679895, 0.40101853, 0.19170563],\n",
       "       [0.16111187, 0.34529697, 0.24555935, 0.24803181],\n",
       "       [0.31490846, 0.21897455, 0.35441775, 0.11169924],\n",
       "       [0.13530739, 0.52183521, 0.19788757, 0.14496984],\n",
       "       [0.35060689, 0.21764122, 0.25465373, 0.17709816],\n",
       "       [0.23226029, 0.31828205, 0.28485193, 0.16460572],\n",
       "       [0.14722915, 0.34580716, 0.24703243, 0.25993126],\n",
       "       [0.25865395, 0.24777123, 0.36860352, 0.1249713 ],\n",
       "       [0.37203992, 0.2351558 , 0.22965375, 0.16315052],\n",
       "       [0.42229075, 0.18782271, 0.16240504, 0.22748149],\n",
       "       [0.16589123, 0.51349626, 0.19265495, 0.12795755],\n",
       "       [0.21114983, 0.27396594, 0.36992783, 0.14495641],\n",
       "       [0.30938715, 0.25814184, 0.24767586, 0.18479515],\n",
       "       [0.37612498, 0.2043089 , 0.16908281, 0.25048331],\n",
       "       [0.44582338, 0.1204856 , 0.15496996, 0.27872106],\n",
       "       [0.2249132 , 0.25417413, 0.3815385 , 0.13937418],\n",
       "       [0.19306325, 0.25661277, 0.28433148, 0.2659925 ],\n",
       "       [0.31923703, 0.17877597, 0.24879094, 0.25319606],\n",
       "       [0.4872499 , 0.1742206 , 0.14906897, 0.18946053],\n",
       "       [0.3227152 , 0.2457931 , 0.24312852, 0.18836318],\n",
       "       [0.34441325, 0.13636193, 0.36094847, 0.15827635],\n",
       "       [0.29336877, 0.16039855, 0.36067065, 0.18556203],\n",
       "       [0.24007544, 0.45309961, 0.18972648, 0.11709846],\n",
       "       [0.52537841, 0.21779853, 0.1429025 , 0.11392056],\n",
       "       [0.22076669, 0.14450453, 0.29282365, 0.34190513],\n",
       "       [0.35391227, 0.2807967 , 0.146302  , 0.21898903],\n",
       "       [0.18086545, 0.29917219, 0.36958501, 0.15037736],\n",
       "       [0.4582495 , 0.08588007, 0.33978092, 0.1160895 ],\n",
       "       [0.30550516, 0.15883622, 0.35635282, 0.17930581]])"
      ]
     },
     "execution_count": 49,
     "metadata": {},
     "output_type": "execute_result"
    }
   ],
   "source": [
    "classification.predict_proba(X_test)"
   ]
  },
  {
   "cell_type": "code",
   "execution_count": 50,
   "metadata": {
    "scrolled": false
   },
   "outputs": [
    {
     "data": {
      "text/plain": [
       "array([0.23486707, 0.25365677, 0.38417868, 0.21138017, 0.22647805,\n",
       "       0.48964464, 0.36069498, 0.26469766, 0.23410786, 0.13933144,\n",
       "       0.15180866, 0.38119492, 0.42260664, 0.33114004, 0.44270214,\n",
       "       0.14166809, 0.35623647, 0.2573755 , 0.35684966, 0.18280557,\n",
       "       0.22539356, 0.18597722, 0.23572428, 0.48388709, 0.14167997,\n",
       "       0.40146902, 0.16872147, 0.12925706, 0.23427093, 0.16470947,\n",
       "       0.20680372, 0.11661327, 0.24219488, 0.48706362, 0.44049836,\n",
       "       0.48344698, 0.50730786, 0.24536617, 0.16979026, 0.21367583,\n",
       "       0.15808432, 0.24778322, 0.37884677, 0.37681908, 0.48263834,\n",
       "       0.27662931, 0.23485645, 0.17572558, 0.35628672, 0.47729103,\n",
       "       0.14982548, 0.37996679, 0.21792112, 0.23091852, 0.14629279,\n",
       "       0.50340801, 0.32566493, 0.28032077, 0.31614997, 0.353275  ,\n",
       "       0.45179506, 0.23263656, 0.35952939, 0.54419878, 0.13931594,\n",
       "       0.1772342 , 0.42882498, 0.29792241, 0.16565643, 0.25357444,\n",
       "       0.16047689, 0.16111187, 0.31490846, 0.13530739, 0.35060689,\n",
       "       0.23226029, 0.14722915, 0.25865395, 0.37203992, 0.42229075,\n",
       "       0.16589123, 0.21114983, 0.30938715, 0.37612498, 0.44582338,\n",
       "       0.2249132 , 0.19306325, 0.31923703, 0.4872499 , 0.3227152 ,\n",
       "       0.34441325, 0.29336877, 0.24007544, 0.52537841, 0.22076669,\n",
       "       0.35391227, 0.18086545, 0.4582495 , 0.30550516])"
      ]
     },
     "execution_count": 50,
     "metadata": {},
     "output_type": "execute_result"
    }
   ],
   "source": [
    "classification.predict_proba(X_test)[::,0]"
   ]
  },
  {
   "cell_type": "code",
   "execution_count": 51,
   "metadata": {},
   "outputs": [],
   "source": [
    "from sklearn.preprocessing import label_binarize\n",
    "y = label_binarize(y, classes=[0,1,2,3])\n",
    "n_classes = 4"
   ]
  },
  {
   "cell_type": "code",
   "execution_count": 52,
   "metadata": {},
   "outputs": [],
   "source": [
    "from sklearn import datasets\n",
    "iris = datasets.load_iris()\n",
    "X, y = iris.data, iris.target\n",
    "\n",
    "y = label_binarize(y, classes=[0,1,2])\n",
    "n_classes = 3"
   ]
  },
  {
   "cell_type": "code",
   "execution_count": null,
   "metadata": {},
   "outputs": [],
   "source": []
  }
 ],
 "metadata": {
  "kernelspec": {
   "display_name": "Python 3",
   "language": "python",
   "name": "python3"
  },
  "language_info": {
   "codemirror_mode": {
    "name": "ipython",
    "version": 3
   },
   "file_extension": ".py",
   "mimetype": "text/x-python",
   "name": "python",
   "nbconvert_exporter": "python",
   "pygments_lexer": "ipython3",
   "version": "3.8.5"
  }
 },
 "nbformat": 4,
 "nbformat_minor": 4
}
